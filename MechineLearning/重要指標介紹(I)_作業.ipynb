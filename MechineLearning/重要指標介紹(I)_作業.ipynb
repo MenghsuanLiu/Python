{
 "cells": [
  {
   "cell_type": "raw",
   "id": "3d41bd08-2286-4faa-a20c-dfe728a0084d",
   "metadata": {},
   "source": [
    "作業目的 : 清楚 entropy 的意義。\n",
    "    \n",
    "作業題目 : \n",
    "    1. 把範例的例子稍加修改，請在計算前先回答此時的 entropy 會比範例中算出的 entropy 來的大/小，原因為何 ? \n",
    "    2. 請計算 entropy，驗證 你的回答。"
   ]
  },
  {
   "cell_type": "raw",
   "id": "77a36807-4aa4-4ebf-a424-be0f800cf331",
   "metadata": {},
   "source": [
    "事件描述　：　\n",
    "有一賽事總共 16 支隊伍參賽，假設每一隊拿冠軍的機率相等且某兩隊伍名稱分別為 A 和 B。\n",
    "已知 A 和 B 在過去的 32 次交手中， A 贏了 31 場比賽， B 贏了 1 場比賽。\n",
    "那麼，A 與 B 的比賽結果的 entropy(information entropy) 為多少呢?"
   ]
  },
  {
   "cell_type": "code",
   "execution_count": null,
   "id": "b289d109-7603-4fcf-99ab-447f44e3b4e7",
   "metadata": {},
   "outputs": [],
   "source": [
    "此時的 entropy 會比範例中來的 ?"
   ]
  },
  {
   "cell_type": "code",
   "execution_count": null,
   "id": "c6458749-9e68-4b36-9dc4-f0294a858d91",
   "metadata": {},
   "outputs": [],
   "source": [
    "import numpy as np\n",
    "\n",
    "P_X1 = ?\n",
    "P_X2 = ?\n",
    "\n",
    "H = - ( P_X1*np.log2(P_X1) + P_X2*np.log2(P_X2) )\n",
    "H"
   ]
  }
 ],
 "metadata": {
  "kernelspec": {
   "display_name": "Python 3",
   "language": "python",
   "name": "python3"
  },
  "language_info": {
   "codemirror_mode": {
    "name": "ipython",
    "version": 3
   },
   "file_extension": ".py",
   "mimetype": "text/x-python",
   "name": "python",
   "nbconvert_exporter": "python",
   "pygments_lexer": "ipython3",
   "version": "3.8.5"
  }
 },
 "nbformat": 4,
 "nbformat_minor": 5
}
