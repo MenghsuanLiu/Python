{
 "cells": [
  {
   "cell_type": "raw",
   "id": "045b4539-5aa7-4d10-82ab-9d6f46761758",
   "metadata": {},
   "source": [
    "作業目的 : 學會如何計算交叉熵。\n",
    "    \n",
    "作業題目 : 已知以下數據，根據交叉熵選擇效果最佳模型，並說明原因。"
   ]
  },
  {
   "cell_type": "code",
   "execution_count": null,
   "id": "e6496f1f-4854-4477-8b22-02b5a63620c3",
   "metadata": {},
   "outputs": [],
   "source": [
    "import numpy as np\n",
    "import pandas as pd"
   ]
  },
  {
   "cell_type": "code",
   "execution_count": null,
   "id": "15c7e966-be18-46d0-80fb-9e93af551ccd",
   "metadata": {},
   "outputs": [],
   "source": [
    "result = {'predict':[np.array([0,0.7,0.3]), np.array([0.01,0.97,0.09]),np.array([0.01,0.98,0.08])],\n",
    "          'label':[np.array([0,1,0]), np.array([0,1,0]), np.array([0,1,0])]}\n",
    "\n",
    "pd.DataFrame(result, index=['M1','M2','M3'])"
   ]
  },
  {
   "cell_type": "code",
   "execution_count": null,
   "id": "cb4a04f8-8a34-4919-bdb8-279304c9a6f0",
   "metadata": {},
   "outputs": [],
   "source": [
    "H1 = ?\n",
    "print('H(P,M1) ~ %.5f'%H1)\n",
    "\n",
    "H2 = ?\n",
    "print('H(P,M2) ~ %.5f'%H2)\n",
    "\n",
    "H3 = ?\n",
    "print('H(P,M3) ~ %.5f'%H3)"
   ]
  },
  {
   "cell_type": "raw",
   "id": "d50fb03e-d612-4fd6-ae35-b27ae379a1ce",
   "metadata": {},
   "source": [
    "我會選擇 ? 作為預測模型，因為誤差最小。"
   ]
  }
 ],
 "metadata": {
  "kernelspec": {
   "display_name": "Python 3",
   "language": "python",
   "name": "python3"
  },
  "language_info": {
   "codemirror_mode": {
    "name": "ipython",
    "version": 3
   },
   "file_extension": ".py",
   "mimetype": "text/x-python",
   "name": "python",
   "nbconvert_exporter": "python",
   "pygments_lexer": "ipython3",
   "version": "3.8.5"
  }
 },
 "nbformat": 4,
 "nbformat_minor": 5
}
