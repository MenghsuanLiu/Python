{
 "cells": [
  {
   "cell_type": "raw",
   "id": "d365ef80-9c7a-4feb-b108-a7deaadcd836",
   "metadata": {},
   "source": [
    "作業目的 : 了解微分後是一個函數，但把點代入後，會成為新的數字。\n",
    "    \n",
    "作業題目 : \n",
    "    1. 利用底下函式求出 f'(e)，e 為自然常數。\n",
    "    2. 並解釋其意義。(提示:至少提出一個觀點)。"
   ]
  },
  {
   "cell_type": "markdown",
   "id": "5397e135-0fac-4510-a165-a343153b7472",
   "metadata": {},
   "source": [
    "假設一函數 $$f(x)=x^2$$"
   ]
  },
  {
   "cell_type": "code",
   "execution_count": null,
   "id": "fd0aa899-bd78-4202-821b-e977034ca154",
   "metadata": {},
   "outputs": [],
   "source": [
    "def f(x):\n",
    "    return x**2"
   ]
  },
  {
   "cell_type": "code",
   "execution_count": null,
   "id": "09fbd747-dfb3-4898-b624-2ab04d2dbc8a",
   "metadata": {},
   "outputs": [],
   "source": [
    "# 微分的定義(詳細理由在最後一章會告訴大家)\n",
    "\n",
    "def diff(fcn):\n",
    "    h=1e-5\n",
    "    return lambda x:(fcn(x+h)-fcn(x))/h"
   ]
  },
  {
   "cell_type": "code",
   "execution_count": null,
   "id": "9cfa6e4a-e47e-4068-858e-a3a4f43e46d3",
   "metadata": {},
   "outputs": [],
   "source": [
    "import numpy as np"
   ]
  },
  {
   "cell_type": "markdown",
   "id": "88f5cda2-7eca-4119-b12d-82c0587cb0ea",
   "metadata": {},
   "source": [
    "### 1. 求出 $$f'(e)$$"
   ]
  },
  {
   "cell_type": "code",
   "execution_count": null,
   "id": "da6a2dde-fc39-40ee-8d05-e1c729bf20cc",
   "metadata": {},
   "outputs": [],
   "source": [
    "f_prime_e = ?\n",
    "\n",
    "print('答案約為%.5f'%f_prime_e)"
   ]
  },
  {
   "cell_type": "markdown",
   "id": "ea4207a3-719b-4344-9825-6107250e063b",
   "metadata": {},
   "source": [
    "### 2. 解釋其意義"
   ]
  },
  {
   "cell_type": "raw",
   "id": "d7510595-d86c-468e-82c5-150dfd96e8b3",
   "metadata": {},
   "source": [
    "?"
   ]
  }
 ],
 "metadata": {
  "kernelspec": {
   "display_name": "Python 3",
   "language": "python",
   "name": "python3"
  },
  "language_info": {
   "codemirror_mode": {
    "name": "ipython",
    "version": 3
   },
   "file_extension": ".py",
   "mimetype": "text/x-python",
   "name": "python",
   "nbconvert_exporter": "python",
   "pygments_lexer": "ipython3",
   "version": "3.8.5"
  }
 },
 "nbformat": 4,
 "nbformat_minor": 5
}
