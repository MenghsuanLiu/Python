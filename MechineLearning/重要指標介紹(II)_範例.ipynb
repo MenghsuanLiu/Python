{
 "cells": [
  {
   "cell_type": "markdown",
   "id": "c9e6b7c9-fd15-4701-b59e-dfb9c52e1dc4",
   "metadata": {},
   "source": [
    "### 計算交叉熵 ── 判斷哪個模型效果更好"
   ]
  },
  {
   "cell_type": "raw",
   "id": "6d19d894-8ab6-432c-b0e5-02c6f3347485",
   "metadata": {},
   "source": [
    "假設有兩個模型 M1、M2，它們對同一張照片進行預測，且該照片的真實標籤為[1,0,0] (one-hot encoding)。"
   ]
  },
  {
   "cell_type": "code",
   "execution_count": 2,
   "id": "aaa62ef6-02e5-4c9b-8710-528ead871e78",
   "metadata": {},
   "outputs": [],
   "source": [
    "import numpy as np\n",
    "import pandas as pd"
   ]
  },
  {
   "cell_type": "code",
   "execution_count": 3,
   "id": "81f8e879-325d-4766-bc44-df474bb76ccc",
   "metadata": {},
   "outputs": [
    {
     "data": {
      "text/html": [
       "<div>\n",
       "<style scoped>\n",
       "    .dataframe tbody tr th:only-of-type {\n",
       "        vertical-align: middle;\n",
       "    }\n",
       "\n",
       "    .dataframe tbody tr th {\n",
       "        vertical-align: top;\n",
       "    }\n",
       "\n",
       "    .dataframe thead th {\n",
       "        text-align: right;\n",
       "    }\n",
       "</style>\n",
       "<table border=\"1\" class=\"dataframe\">\n",
       "  <thead>\n",
       "    <tr style=\"text-align: right;\">\n",
       "      <th></th>\n",
       "      <th>predict</th>\n",
       "      <th>label</th>\n",
       "    </tr>\n",
       "  </thead>\n",
       "  <tbody>\n",
       "    <tr>\n",
       "      <th>M1</th>\n",
       "      <td>[0.4, 0.3, 0.3]</td>\n",
       "      <td>[1, 0, 0]</td>\n",
       "    </tr>\n",
       "    <tr>\n",
       "      <th>M2</th>\n",
       "      <td>[0.99, 0.01, 0.09]</td>\n",
       "      <td>[1, 0, 0]</td>\n",
       "    </tr>\n",
       "  </tbody>\n",
       "</table>\n",
       "</div>"
      ],
      "text/plain": [
       "               predict      label\n",
       "M1     [0.4, 0.3, 0.3]  [1, 0, 0]\n",
       "M2  [0.99, 0.01, 0.09]  [1, 0, 0]"
      ]
     },
     "execution_count": 3,
     "metadata": {},
     "output_type": "execute_result"
    }
   ],
   "source": [
    "result = {'predict':[np.array([0.4,0.3,0.3]), np.array([0.99,0.01,0.09])],\n",
    "          'label':[np.array([1,0,0]), np.array([1,0,0])]}\n",
    "\n",
    "pd.DataFrame(result, index=['M1','M2'])"
   ]
  },
  {
   "cell_type": "markdown",
   "id": "9327b1ac-9bcc-437f-ad03-ba832174cd1a",
   "metadata": {},
   "source": [
    "$$H(P,M_1)=-\\sum_{i=1}^{n}P(i)log_2M_1(i)\\\\\n",
    "=-(1log0.4+0log0.3+0log0.3)$$"
   ]
  },
  {
   "cell_type": "code",
   "execution_count": 12,
   "id": "14e29f7e-17cd-418d-b29a-697257cff973",
   "metadata": {},
   "outputs": [
    {
     "name": "stdout",
     "output_type": "stream",
     "text": [
      "H(P,M1) ~ 1.32193\n"
     ]
    }
   ],
   "source": [
    "H = -np.log2(0.4)\n",
    "print('H(P,M1) ~ %.5f'%H)"
   ]
  },
  {
   "cell_type": "markdown",
   "id": "83d0c7c1-b8a1-41b1-ad6c-8373bdb6e01d",
   "metadata": {},
   "source": [
    "$$H(P,M_1)=-\\sum_{i=1}^{n}P(i)log_2M_1(i)\\\\\n",
    "=-(1log0.99+0log0.01+0log0.09)$$"
   ]
  },
  {
   "cell_type": "code",
   "execution_count": 13,
   "id": "cb342d80-321d-4fe3-b919-6540121a1262",
   "metadata": {},
   "outputs": [
    {
     "name": "stdout",
     "output_type": "stream",
     "text": [
      "H(P,M1) ~ 0.01450\n"
     ]
    }
   ],
   "source": [
    "H = -np.log2(0.99)\n",
    "print('H(P,M1) ~ %.5f'%H)"
   ]
  },
  {
   "cell_type": "raw",
   "id": "cbfb55eb-1616-4aa7-ab8c-30c51db6255e",
   "metadata": {},
   "source": [
    "結論 : 交叉熵解釋了預測結果與真實標籤的誤差，隨著預測愈來愈準確，交叉熵自然會愈來愈小。"
   ]
  }
 ],
 "metadata": {
  "kernelspec": {
   "display_name": "Python 3",
   "language": "python",
   "name": "python3"
  },
  "language_info": {
   "codemirror_mode": {
    "name": "ipython",
    "version": 3
   },
   "file_extension": ".py",
   "mimetype": "text/x-python",
   "name": "python",
   "nbconvert_exporter": "python",
   "pygments_lexer": "ipython3",
   "version": "3.10.9"
  }
 },
 "nbformat": 4,
 "nbformat_minor": 5
}
