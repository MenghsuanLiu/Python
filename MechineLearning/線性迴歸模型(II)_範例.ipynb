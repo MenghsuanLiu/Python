{
 "cells": [
  {
   "cell_type": "markdown",
   "id": "42dcecd2-2633-4d1c-83f5-acf345e51b5d",
   "metadata": {},
   "source": [
    "### 本章專注於探討線性回歸模型(I)範例程式較重要的部分"
   ]
  },
  {
   "cell_type": "code",
   "execution_count": null,
   "metadata": {},
   "outputs": [],
   "source": [
    "# 以預測函數 (1, x) 之值計算預測值 yp\n",
    "def pred(x, w):\n",
    "    return(x @ w)"
   ]
  },
  {
   "cell_type": "code",
   "execution_count": null,
   "metadata": {},
   "outputs": [],
   "source": [
    "for k in range(iters):\n",
    "    \n",
    "    # 計算預測值\n",
    "    yp = pred(x, w)\n",
    "    \n",
    "    # 計算誤差\n",
    "    yd = yp - yt\n",
    "    \n",
    "    # 梯度下降法的實作\n",
    "    w = w - alpha * (x.T @ yd) / M\n",
    "    \n",
    "    # 繪製學習曲線所需資料之計算與儲存\n",
    "    if ( k % 100 == 0):\n",
    "        # 計算損失函數值\n",
    "        loss = np.mean(yd ** 2) / 2\n",
    "        # 記錄計算結果\n",
    "        history = np.vstack((history, np.array([k, loss])))"
   ]
  },
  {
   "cell_type": "markdown",
   "id": "f87b0c3c-a500-464a-8ef6-a5a4b8fdcab1",
   "metadata": {},
   "source": [
    "#### 因為我們想要用一條線去做預測，所以**預測函數**(pred)假設為**直線方程式**(y)，其中包含**截距(虛擬變數)** : \n",
    "#### $$y = w_0+w_1x_1$$"
   ]
  },
  {
   "cell_type": "markdown",
   "id": "8b981014-199c-4282-bf88-fb61303f14da",
   "metadata": {},
   "source": [
    "#### 剛開始我們隨便設定一個初始向量 : $$[w_0,w_1]$$\n",
    "\n",
    "#### 並用此向量生出一條直線當作預測值，接下來**計算預測值與真實值的差** : \n",
    "#### $$y_p-y_t$$\n",
    "\n",
    "#### 因為我們希望此差距愈小愈好，所以使用**損失函數的偏微分找出下降最快的方向為** : \n",
    "#### $$\\frac{1}{M}\\sum_{m-0}^{M-1}y_d^{(m)}\\cdot x_i^{(m)} \\,\\,\\,(i=0,1)$$\n",
    "\n",
    "#### 再來，朝這個方向走**學習率**(alpha)的步伐大小，走完後要更新參數，程式才知道有走過!所以 : \n",
    "#### $$w = w - alpha * (x.T @ yd) / M$$"
   ]
  },
  {
   "cell_type": "markdown",
   "id": "03e51107-90b4-4bf4-92f6-6666faf1a7e6",
   "metadata": {},
   "source": [
    "### 如此不斷迭代，即為用梯度下降法實現更新權重的詳細過程!"
   ]
  }
 ],
 "metadata": {
  "kernelspec": {
   "display_name": "Python 3.8.10 64-bit",
   "language": "python",
   "name": "python3"
  },
  "language_info": {
   "name": "python",
   "version": "3.8.10"
  },
  "orig_nbformat": 4,
  "vscode": {
   "interpreter": {
    "hash": "7c1f045d763b5a4654fa7e90b5385c14945c80b8a2b5ffd890b60b6125007890"
   }
  }
 },
 "nbformat": 4,
 "nbformat_minor": 2
}
