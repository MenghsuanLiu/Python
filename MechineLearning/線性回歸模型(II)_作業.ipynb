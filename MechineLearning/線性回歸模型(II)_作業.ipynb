{
 "cells": [
  {
   "cell_type": "raw",
   "id": "8817f5b3-7338-4078-bc28-c35aa03e277b",
   "metadata": {},
   "source": [
    "作業目的 : 藉由低維度的資料熟悉梯度下降法，注意，gradient在單變數中可視為一階微分(方向為左或右)。\n",
    "    \n",
    "作業題目 : 利用梯度下降法與下面給出的函式，找出以下函數的最小值，並觀察不同學習率(alpha)對於收斂性的影響。(提示 : 不斷更新 x ，使得 f(x) 愈來愈小)"
   ]
  },
  {
   "cell_type": "markdown",
   "id": "374269ad-017a-40fe-901e-db1e2dbdc2ab",
   "metadata": {},
   "source": [
    "假設一函數 $$f(x)=x^2$$"
   ]
  },
  {
   "cell_type": "code",
   "execution_count": null,
   "id": "2467888d-a840-445d-802a-9bbc2880d681",
   "metadata": {},
   "outputs": [],
   "source": [
    "def f(x):\n",
    "    return x**2"
   ]
  },
  {
   "cell_type": "code",
   "execution_count": null,
   "id": "822ae9ae-d8cd-45f9-b6bd-67c444795b7c",
   "metadata": {},
   "outputs": [],
   "source": [
    "def diff(fcn):\n",
    "    h=1e-5\n",
    "    return lambda x : (fcn(x+h)-fcn(x))/h"
   ]
  },
  {
   "cell_type": "code",
   "execution_count": null,
   "id": "530f2cdc-b89e-4366-ac12-3dabb2605ab2",
   "metadata": {},
   "outputs": [],
   "source": [
    "import numpy as np\n",
    "import matplotlib.pyplot as plt"
   ]
  },
  {
   "cell_type": "code",
   "execution_count": null,
   "id": "7509af88-5f57-41ae-9c72-410566ebc437",
   "metadata": {},
   "outputs": [],
   "source": [
    "x=np.linspace(-5,5)\n",
    "plt.plot(x,f(x))\n",
    "plt.show()"
   ]
  },
  {
   "cell_type": "markdown",
   "id": "ac61c96b-aa7f-44f9-8bb0-04ea3d72ad50",
   "metadata": {},
   "source": [
    "### 利用梯度下降法，找出下列函數的最小值"
   ]
  },
  {
   "cell_type": "raw",
   "id": "a63a537e-7c38-4052-8d91-60971668a988",
   "metadata": {},
   "source": [
    "提示 : 在曲線上隨便給一個點"
   ]
  },
  {
   "cell_type": "code",
   "execution_count": null,
   "id": "7af3e58d-38ae-4f0e-ad28-b12a752aa57d",
   "metadata": {},
   "outputs": [],
   "source": [
    "plt.plot(x,f(x))\n",
    "plt.scatter(x[?],f(x[?]), s=50,color='r')\n",
    "plt.show()"
   ]
  },
  {
   "cell_type": "code",
   "execution_count": null,
   "id": "4a070e7a-b42c-46a0-b046-432321259b96",
   "metadata": {},
   "outputs": [],
   "source": [
    "w = x[?]\n",
    "alpha = ?\n",
    "\n",
    "for i in range(200):\n",
    "    w = w - alpha*diff(f)(w)\n",
    "\n",
    "    if i%50 == 0:\n",
    "        plt.plot(x,f(x))\n",
    "        plt.scatter(w,f(w), s=50,color='r')\n",
    "        plt.show()\n",
    "    else:\n",
    "        pass"
   ]
  },
  {
   "cell_type": "code",
   "execution_count": null,
   "id": "26b19833-687e-43a9-8648-5f2eefe0efc6",
   "metadata": {},
   "outputs": [],
   "source": []
  }
 ],
 "metadata": {
  "kernelspec": {
   "display_name": "Python 3",
   "language": "python",
   "name": "python3"
  },
  "language_info": {
   "codemirror_mode": {
    "name": "ipython",
    "version": 3
   },
   "file_extension": ".py",
   "mimetype": "text/x-python",
   "name": "python",
   "nbconvert_exporter": "python",
   "pygments_lexer": "ipython3",
   "version": "3.8.5"
  }
 },
 "nbformat": 4,
 "nbformat_minor": 5
}
