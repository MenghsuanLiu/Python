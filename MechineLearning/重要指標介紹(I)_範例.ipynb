{
 "cells": [
  {
   "cell_type": "markdown",
   "id": "540c28ee-6914-4265-a8df-795373585ea2",
   "metadata": {},
   "source": [
    "### 計算 entropy\n",
    "\n",
    "#### $$H(X)=-\\sum_{i=1}^{n}P(X_i)log_2\\{P(X_i)\\}$$"
   ]
  },
  {
   "cell_type": "raw",
   "id": "3508eb10-4e19-446a-b8c2-955a45c00c9e",
   "metadata": {},
   "source": [
    "事件描述　：　\n",
    "有一賽事總共 16 支隊伍參賽，假設每一隊拿冠軍的機率相等且某兩隊伍名稱分別為 A 和 B。\n",
    "已知 A 和 B 在過去的 32 次交手中， A 贏了 10 場比賽， B 贏了 5 場比賽。\n",
    "那麼，A 與 B 的比賽結果的 entropy(information entropy) 為多少呢?"
   ]
  },
  {
   "cell_type": "markdown",
   "id": "eb1bb0fe-26c4-4801-8414-a2898897d705",
   "metadata": {},
   "source": [
    "$$H(X)=-\\sum_{i=1}^{2}P(X_i)log_2\\{P(X_i)\\}\\\\\n",
    "\\,\\,\\,\\,\\,\\,\\,\\,\\,\\,=-(P(X_1)log_2\\{X_1\\} + P(X_2)log_2\\{X_2\\})\\\\\n",
    "\\,\\,\\,=-(\\frac{10}{32}(-log_2\\frac{10}{32}) + \\frac{5}{32}(-log_2\\frac{5}{32}))$$"
   ]
  },
  {
   "cell_type": "code",
   "execution_count": 1,
   "id": "3a00e721-de8a-47c1-9947-9dfb8a7f2ae7",
   "metadata": {},
   "outputs": [
    {
     "data": {
      "text/plain": [
       "0.942846205521549"
      ]
     },
     "execution_count": 1,
     "metadata": {},
     "output_type": "execute_result"
    }
   ],
   "source": [
    "import numpy as np\n",
    "\n",
    "P_X1 = 10/32\n",
    "P_X2 = 5/32\n",
    "\n",
    "H = - ( P_X1*np.log2(P_X1) + P_X2*np.log2(P_X2) )\n",
    "H"
   ]
  },
  {
   "cell_type": "raw",
   "id": "eecc4703-7e1b-4ab1-8af0-bec52c75b7b9",
   "metadata": {},
   "source": [
    "結論 : 比賽結果的 entropy 高，意思是其中的資訊量非常多，也就是說，難以直接預測結果。"
   ]
  }
 ],
 "metadata": {
  "kernelspec": {
   "display_name": "Python 3",
   "language": "python",
   "name": "python3"
  },
  "language_info": {
   "codemirror_mode": {
    "name": "ipython",
    "version": 3
   },
   "file_extension": ".py",
   "mimetype": "text/x-python",
   "name": "python",
   "nbconvert_exporter": "python",
   "pygments_lexer": "ipython3",
   "version": "3.10.9"
  }
 },
 "nbformat": 4,
 "nbformat_minor": 5
}
