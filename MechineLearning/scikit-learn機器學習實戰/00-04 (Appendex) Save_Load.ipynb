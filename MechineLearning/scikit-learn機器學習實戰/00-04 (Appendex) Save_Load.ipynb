{
 "cells": [
  {
   "cell_type": "code",
   "execution_count": null,
   "metadata": {},
   "outputs": [],
   "source": []
  },
  {
   "cell_type": "markdown",
   "metadata": {},
   "source": [
    "今天會介紹兩個方法去做存檔讀檔， ```pickel``` 跟 ```joblib```。"
   ]
  },
  {
   "cell_type": "code",
   "execution_count": 9,
   "metadata": {},
   "outputs": [],
   "source": [
    "# pickle save\n",
    "from sklearn import svm\n",
    "from sklearn import datasets\n",
    "import pickle\n",
    "\n",
    "model_path = 'model.pickle'\n",
    "\n",
    "classifier = svm.SVC()\n",
    "X, y = datasets.load_iris(return_X_y=True)\n",
    "\n",
    "classifier.fit(X, y)\n",
    "\n",
    "with open(model_path, 'wb') as f:\n",
    "    pickle.dump(classifier, f)\n",
    "\n"
   ]
  },
  {
   "cell_type": "code",
   "execution_count": 10,
   "metadata": {},
   "outputs": [],
   "source": [
    "# pickle load\n",
    "import pickle\n",
    "\n",
    "with open(model_path, 'rb') as f:\n",
    "    classifier_load = pickle.load(f)\n",
    "\n"
   ]
  },
  {
   "cell_type": "code",
   "execution_count": 11,
   "metadata": {},
   "outputs": [
    {
     "name": "stdout",
     "output_type": "stream",
     "text": [
      "classifier pred: [0 0 0 0 0 0 0 0 0 0]\n",
      "classifier load pred: [0 0 0 0 0 0 0 0 0 0]\n"
     ]
    }
   ],
   "source": [
    "# check pickel\n",
    "print('classifier pred:', classifier.predict(X[0:10]))\n",
    "print('classifier load pred:', classifier_load.predict(X[0:10]))\n"
   ]
  },
  {
   "cell_type": "markdown",
   "metadata": {},
   "source": [
    "下面示範 joblib"
   ]
  },
  {
   "cell_type": "code",
   "execution_count": 12,
   "metadata": {},
   "outputs": [],
   "source": [
    "# joblib save\n",
    "import joblib\n",
    "from sklearn import svm\n",
    "from sklearn import datasets\n",
    "\n",
    "\n",
    "model_path = 'model.joblib'\n",
    "\n",
    "classifier = svm.SVC()\n",
    "X, y = datasets.load_iris(return_X_y=True)\n",
    "\n",
    "classifier.fit(X, y)\n",
    "\n",
    "with open(model_path, 'wb') as f:\n",
    "    joblib.dump(classifier, f)\n",
    "\n"
   ]
  },
  {
   "cell_type": "code",
   "execution_count": 13,
   "metadata": {},
   "outputs": [],
   "source": [
    "# joblib load\n",
    "import joblib\n",
    "\n",
    "with open(model_path, 'rb') as f:\n",
    "    classifier_load = joblib.load(f)\n"
   ]
  },
  {
   "cell_type": "code",
   "execution_count": 14,
   "metadata": {},
   "outputs": [
    {
     "name": "stdout",
     "output_type": "stream",
     "text": [
      "classifier pred: [0 0 0 0 0 0 0 0 0 0]\n",
      "classifier load pred: [0 0 0 0 0 0 0 0 0 0]\n"
     ]
    }
   ],
   "source": [
    "# joblib check\n",
    "\n",
    "print('classifier pred:', classifier.predict(X[0:10]))\n",
    "print('classifier load pred:', classifier_load.predict(X[0:10]))\n"
   ]
  },
  {
   "cell_type": "code",
   "execution_count": null,
   "metadata": {},
   "outputs": [],
   "source": []
  },
  {
   "cell_type": "markdown",
   "metadata": {},
   "source": [
    "scikit learn 官方是推薦使用 joblib，\n",
    "官方提到 joblib 比 pickel 更高效，對於大的 numpy 陣列更好。\n",
    "\n"
   ]
  },
  {
   "cell_type": "markdown",
   "metadata": {},
   "source": [
    "# scikit learn onnx\n",
    "\n",
    "下面要介紹怎麼把你的模型轉為 onnx\n",
    "\n"
   ]
  },
  {
   "cell_type": "code",
   "execution_count": null,
   "metadata": {},
   "outputs": [],
   "source": []
  },
  {
   "cell_type": "code",
   "execution_count": null,
   "metadata": {},
   "outputs": [],
   "source": []
  },
  {
   "cell_type": "code",
   "execution_count": null,
   "metadata": {},
   "outputs": [],
   "source": []
  },
  {
   "cell_type": "code",
   "execution_count": null,
   "metadata": {},
   "outputs": [],
   "source": []
  },
  {
   "cell_type": "code",
   "execution_count": null,
   "metadata": {},
   "outputs": [],
   "source": []
  }
 ],
 "metadata": {
  "kernelspec": {
   "display_name": "Python 3.8.8 ('toby')",
   "language": "python",
   "name": "python3"
  },
  "language_info": {
   "codemirror_mode": {
    "name": "ipython",
    "version": 3
   },
   "file_extension": ".py",
   "mimetype": "text/x-python",
   "name": "python",
   "nbconvert_exporter": "python",
   "pygments_lexer": "ipython3",
   "version": "3.8.8"
  },
  "orig_nbformat": 4,
  "vscode": {
   "interpreter": {
    "hash": "9f507bc0c6a586295e3338d11ec3fe19c4f242dbc5a06bb50ca7be29aa175c9f"
   }
  }
 },
 "nbformat": 4,
 "nbformat_minor": 2
}
