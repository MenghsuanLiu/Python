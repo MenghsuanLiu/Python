{
 "cells": [
  {
   "cell_type": "markdown",
   "metadata": {},
   "source": [
    "在 scikit-learn 裡面的任務類型可以分為 $3$ 類，Classification, Regression, Clustering，所以指標也會分為三個部分來說明。\n",
    "\n",
    "\n",
    "下面列出在 scikit learn 提供的方法。\n",
    "\n",
    "\n",
    "| Regression 回歸 | Classification 分類 | Clustering 分群 |\n",
    "| :----: | :----: | :----: |\n",
    "| explained_variance_score | accuracy_score | adjusted_mutual_info_score |\n",
    "| max_error | balanced_accuracy_score | adjusted_rand_score |\n",
    "| mean_absolute_error | top_k_accuracy_score | completeness_score |\n",
    "| mean_squared_error | average_precision_score | fowlkes_mallows_score |\n",
    "| mean_squared_log_error | brier_score_loss | homogeneity_score |\n",
    "| median_absolute_error | f1_score | mutual_info_score |\n",
    "| r2_score | log_loss | normalized_mutual_info_score |\n",
    "| mean_poisson_deviance | precision_score | rand_score |\n",
    "| mean_gamma_deviance | recall_score | v_measure_score |\n",
    "| mean_absolute_percentage_error | jaccard_score | |\n",
    "| d2_absolute_error_score | roc_auc_score | | \n",
    "| d2_pinball_score | | |\n",
    "| d2_tweedie_score | | |\n",
    "\n",
    "\n",
    "\n",
    "最後還會提及一種特別的 Dummy 評估器，可以用來做 baseline 的值，我們廢話不多說直接進入 Dummy 的實戰環節。\n",
    "\n"
   ]
  },
  {
   "cell_type": "code",
   "execution_count": 1,
   "metadata": {},
   "outputs": [
    {
     "data": {
      "text/plain": [
       "0.8157894736842105"
      ]
     },
     "metadata": {},
     "output_type": "display_data"
    },
    {
     "data": {
      "text/plain": [
       "0.3157894736842105"
      ]
     },
     "execution_count": 1,
     "metadata": {},
     "output_type": "execute_result"
    }
   ],
   "source": [
    "from sklearn.datasets import load_iris\n",
    "from sklearn.model_selection import train_test_split\n",
    "from sklearn.dummy import DummyClassifier\n",
    "from sklearn.svm import SVC\n",
    "\n",
    "X, y = load_iris(return_X_y=True)\n",
    "\n",
    "# 建立不平衡資料\n",
    "y[y != 1] = 0\n",
    "X_train, X_test, y_train, y_test = train_test_split(X, y, random_state=87)\n",
    "\n",
    "classifier = SVC(kernel='linear', C=1).fit(X_train, y_train)\n",
    "display(classifier.score(X_test, y_test))\n",
    "\n",
    "# classifier_dummy = DummyClassifier(strategy='most_frequent', random_state=87)\n",
    "classifier_dummy = DummyClassifier(strategy='constant', constant=1, random_state=87)\n",
    "classifier_dummy.fit(X_train, y_train)\n",
    "\n",
    "classifier_dummy.score(X_test, y_test)\n"
   ]
  },
  {
   "cell_type": "markdown",
   "metadata": {},
   "source": [
    "# Dummy Classifier\n",
    "\n",
    "\n",
    "可以選用的參數有:\n",
    "- stratified : 根據訓練集類別的分佈，產生隨機預測值。\n",
    "- most_frequent : 預測訓練集中頻率最高的標籤。\n",
    "- prior : 預測可以使類別最大化的類。\n",
    "- uniform : 產生均勻隨機的預測值。\n",
    "- constant : 預測某一類。\n",
    "\n",
    "\n",
    "# Dummy Regressor\n",
    "\n",
    "可以選用的參數有:\n",
    "- mean : 預測的是平均值。\n",
    "- median : 預測的是中間值。\n",
    "- quantile : 預測的是分位數。\n",
    "- constant : 預測某一固定值。\n",
    "\n"
   ]
  },
  {
   "cell_type": "code",
   "execution_count": null,
   "metadata": {},
   "outputs": [],
   "source": []
  }
 ],
 "metadata": {
  "interpreter": {
   "hash": "8f52dbdec6d431ab1be59c1bf1a6b0dc5b543980826c03cc05bcba6c9cef002f"
  },
  "kernelspec": {
   "display_name": "Python 3.8.13 ('scikit')",
   "language": "python",
   "name": "python3"
  },
  "language_info": {
   "codemirror_mode": {
    "name": "ipython",
    "version": 3
   },
   "file_extension": ".py",
   "mimetype": "text/x-python",
   "name": "python",
   "nbconvert_exporter": "python",
   "pygments_lexer": "ipython3",
   "version": "3.8.13"
  },
  "orig_nbformat": 4,
  "vscode": {
   "interpreter": {
    "hash": "16588fe0bceb188988cfd4fccbde89564770efaa71f24d6b7cc64f697ef5739b"
   }
  }
 },
 "nbformat": 4,
 "nbformat_minor": 2
}
