{
 "cells": [
  {
   "cell_type": "markdown",
   "metadata": {},
   "source": [
    "# Review\n",
    "這邊先回顧一下前面討論的線性回歸，其實我們就是用$w_0 + w_1 x_1 + w_2 x_2 + w_3 x_3 + \\cdots $去估計 $y$。\n",
    "\n",
    "# Polynomial\n",
    "我們來說一下什麼是多項式\n",
    "$$\n",
    "w_0 + w_1 x + w_2 x^2 + w_3 x^3 + \\cdots\n",
    "$$\n",
    "這就是多項式。 <br>\n",
    "我們先假想一個場景，假設你收集到一些資料 $X$ 想要去預測 $y$，結果很不幸的你的 $X$ 只有一維的資料，我們上次講過那麼多的方法難道就不能用嗎? <br>\n",
    "多項式就說話啦，我可以來幫你把一維資料生出好多維資料，那你又可以快樂的用之前教的 linear model 線性模型來預測估計 $y$ 啦。 <br>\n",
    "下面來一個範例 \n",
    "$$\n",
    "x = (1,2,3,4,5)\n",
    "$$\n",
    "那要怎麼生出其他向量\n",
    "$$\n",
    "x^2 = (1,4,9,16,25)\n",
    "$$\n",
    "這不就生出來了，並且你想生多少就生多少。 <br>\n",
    "下面再問一個問題納我們如果 $X$ 本來就不是一維的那你會生出更多資料嗎? <br>\n",
    "那你是不是馬上又想到一個問題，我生出那麼多特徵，效果會變很好嗎? 計算量變很大? 特徵無限變大該怎麼辦? <br>\n",
    "特徵的選取(feature-selection)，以後會講到可以移駕 輸入 feature-selection。"
   ]
  },
  {
   "cell_type": "markdown",
   "metadata": {},
   "source": [
    "# Polynomial Regression\n",
    "\n",
    "沒錯這次的主題就是多項式回歸，我們要怎麼生出更多的特徵 ``PolynomialFeatures`` 就是要用到他啦，下面進入實戰。\n",
    "\n"
   ]
  },
  {
   "cell_type": "code",
   "execution_count": 3,
   "metadata": {},
   "outputs": [
    {
     "data": {
      "text/plain": [
       "array([[  1.,   1.,   1.,   1.],\n",
       "       [  2.,   4.,   8.,  16.],\n",
       "       [  3.,   9.,  27.,  81.],\n",
       "       [  4.,  16.,  64., 256.]])"
      ]
     },
     "execution_count": 3,
     "metadata": {},
     "output_type": "execute_result"
    }
   ],
   "source": [
    "import numpy as np\n",
    "from sklearn.preprocessing import PolynomialFeatures\n",
    "\n",
    "x = np.array([1, 2, 3, 4])\n",
    "poly = PolynomialFeatures(degree=4, include_bias=False)\n",
    "poly.fit_transform(x[:, None])\n"
   ]
  },
  {
   "cell_type": "markdown",
   "metadata": {},
   "source": [
    "如果現在 $x=(x_1, x_2)$，那生出 degree 不超過 $2$ 的特徵有多少?\n",
    "$$\n",
    "1, x_1, x_2, x_1^2, x_1x_2, x_2^2\n",
    "$$"
   ]
  },
  {
   "cell_type": "code",
   "execution_count": 9,
   "metadata": {},
   "outputs": [
    {
     "data": {
      "text/plain": [
       "array([[0, 1],\n",
       "       [2, 3],\n",
       "       [4, 5]])"
      ]
     },
     "metadata": {},
     "output_type": "display_data"
    },
    {
     "data": {
      "text/plain": [
       "array([[ 1.,  0.,  1.,  0.,  0.,  1.],\n",
       "       [ 1.,  2.,  3.,  4.,  6.,  9.],\n",
       "       [ 1.,  4.,  5., 16., 20., 25.]])"
      ]
     },
     "execution_count": 9,
     "metadata": {},
     "output_type": "execute_result"
    }
   ],
   "source": [
    "from sklearn.preprocessing import PolynomialFeatures\n",
    "import numpy as np\n",
    "\n",
    "X = np.arange(6).reshape(3, 2)\n",
    "\n",
    "display(X)\n",
    "\n",
    "poly = PolynomialFeatures(degree=2)\n",
    "poly.fit_transform(X)\n"
   ]
  },
  {
   "cell_type": "markdown",
   "metadata": {},
   "source": [
    "# Linear Polynomial Regression \n",
    "\n",
    "接下來我們就根據這次學到的 polynomial features，去做 linear regression。\n"
   ]
  },
  {
   "cell_type": "code",
   "execution_count": 11,
   "metadata": {},
   "outputs": [
    {
     "name": "stdout",
     "output_type": "stream",
     "text": [
      "w_0 截距： 129.51559010293292\n",
      "Mean squared error: 3451.44\n"
     ]
    }
   ],
   "source": [
    "# 先準備資料\n",
    "import numpy as np\n",
    "from sklearn.preprocessing import PolynomialFeatures\n",
    "from sklearn import datasets\n",
    "from sklearn.model_selection import train_test_split\n",
    "from sklearn import linear_model\n",
    "from sklearn.metrics import mean_squared_error\n",
    "\n",
    "# 下載 糖尿病資料\n",
    "X, y = datasets.load_diabetes(return_X_y=True)\n",
    "\n",
    "# poly feature\n",
    "poly = PolynomialFeatures(degree=2)\n",
    "X = poly.fit_transform(X)\n",
    "\n",
    "X_train, X_test, y_train, y_test = train_test_split(X, y, test_size=0.2, random_state=87)\n",
    "\n",
    "# 準備模型\n",
    "regression = linear_model.LinearRegression()\n",
    "# 訓練模型\n",
    "regression.fit(X_train, y_train)\n",
    "# 預測結果\n",
    "y_pred = regression.predict(X_test)\n",
    "\n",
    "#print('w 係數：', regression.coef_)\n",
    "print('w_0 截距：', regression.intercept_)\n",
    "\n",
    "# The mean squared error 我們以後會介紹 metrics 就會認識 mse，現在先用。\n",
    "print(\"Mean squared error: %.2f\" % mean_squared_error(y_test, y_pred))"
   ]
  },
  {
   "cell_type": "markdown",
   "metadata": {},
   "source": [
    "如果前面係數要求是正的"
   ]
  },
  {
   "cell_type": "code",
   "execution_count": 12,
   "metadata": {},
   "outputs": [
    {
     "name": "stdout",
     "output_type": "stream",
     "text": [
      "w_0 截距： 142.84678833062276\n",
      "Mean squared error: 3075.61\n"
     ]
    }
   ],
   "source": [
    "import numpy as np\n",
    "from sklearn import datasets\n",
    "from sklearn.model_selection import train_test_split\n",
    "from sklearn import linear_model\n",
    "from sklearn.metrics import mean_squared_error\n",
    "\n",
    "\n",
    "X, y = datasets.load_diabetes(return_X_y=True)\n",
    "\n",
    "# poly feature\n",
    "poly = PolynomialFeatures(degree=2)\n",
    "X = poly.fit_transform(X)\n",
    "\n",
    "X_train, X_test, y_train, y_test = train_test_split(X, y, test_size=0.2, random_state=87)\n",
    "\n",
    "# 準備模型 這邊要多加一個參數 positive=True\n",
    "regression = linear_model.LinearRegression(positive=True)\n",
    "\n",
    "regression.fit(X_train, y_train)\n",
    "y_pred = regression.predict(X_test)\n",
    "\n",
    "#print('w 係數：', regression.coef_)\n",
    "print('w_0 截距：', regression.intercept_)\n",
    "print(\"Mean squared error: %.2f\" % mean_squared_error(y_test, y_pred))\n"
   ]
  },
  {
   "cell_type": "markdown",
   "metadata": {},
   "source": [
    "# Ridge Poly Regression"
   ]
  },
  {
   "cell_type": "code",
   "execution_count": 14,
   "metadata": {},
   "outputs": [
    {
     "name": "stdout",
     "output_type": "stream",
     "text": [
      "w_0 截距： 152.98945964127543\n",
      "Mean squared error: 2972.05\n"
     ]
    }
   ],
   "source": [
    "# Ridge Regression\n",
    "import numpy as np\n",
    "from sklearn import datasets\n",
    "from sklearn.model_selection import train_test_split\n",
    "from sklearn import linear_model\n",
    "from sklearn.metrics import mean_squared_error\n",
    "\n",
    "\n",
    "X, y = datasets.load_diabetes(return_X_y=True)\n",
    "\n",
    "# poly feature\n",
    "poly = PolynomialFeatures(degree=2)\n",
    "X = poly.fit_transform(X)\n",
    "\n",
    "X_train, X_test, y_train, y_test = train_test_split(X, y, test_size=0.2, random_state=87)\n",
    "\n",
    "# 準備 Ridge 模型 \n",
    "regression = linear_model.Ridge(alpha=0.5)\n",
    "\n",
    "regression.fit(X_train, y_train)\n",
    "y_pred = regression.predict(X_test)\n",
    "\n",
    "#print('w 係數：', regression.coef_)\n",
    "print('w_0 截距：', regression.intercept_)\n",
    "print(\"Mean squared error: %.2f\" % mean_squared_error(y_test, y_pred))"
   ]
  },
  {
   "cell_type": "markdown",
   "metadata": {},
   "source": [
    "# Ridge Poly Classification"
   ]
  },
  {
   "cell_type": "code",
   "execution_count": 15,
   "metadata": {},
   "outputs": [
    {
     "name": "stdout",
     "output_type": "stream",
     "text": [
      "Training accuracy:  0.9833333333333333\n",
      "Testing accuracy:  0.9666666666666667\n"
     ]
    }
   ],
   "source": [
    "# Ridge Classification\n",
    "from sklearn import datasets\n",
    "from sklearn.model_selection import train_test_split\n",
    "from sklearn.linear_model import RidgeClassifier\n",
    "from sklearn.preprocessing import LabelBinarizer\n",
    "from sklearn.model_selection import train_test_split\n",
    "\n",
    "\n",
    "X, y = datasets.load_iris(return_X_y=True)\n",
    "#y = LabelBinarizer().fit_transform(y)\n",
    "\n",
    "# poly feature\n",
    "poly = PolynomialFeatures(degree=2)\n",
    "X = poly.fit_transform(X)\n",
    "\n",
    "# 切分資料\n",
    "X_train, X_test, y_train, y_test = train_test_split(X, y, test_size=0.2, random_state=87) \n",
    "\n",
    "classifier = RidgeClassifier().fit(X_train, y_train)\n",
    "\n",
    "# The Score will Return the mean accuracy on the given test data and labels.\n",
    "print('Training accuracy: ', classifier.score(X_train, y_train))\n",
    "print('Testing accuracy: ', classifier.score(X_test, y_test))"
   ]
  },
  {
   "cell_type": "code",
   "execution_count": null,
   "metadata": {},
   "outputs": [],
   "source": [
    "# Lasso Poly Regression"
   ]
  },
  {
   "cell_type": "code",
   "execution_count": 16,
   "metadata": {},
   "outputs": [
    {
     "name": "stdout",
     "output_type": "stream",
     "text": [
      "w_0 截距： 153.28164489672588\n",
      "Mean squared error: 2928.64\n"
     ]
    }
   ],
   "source": [
    "# Lasso Regression\n",
    "import numpy as np\n",
    "from sklearn import datasets\n",
    "from sklearn.model_selection import train_test_split\n",
    "from sklearn import linear_model\n",
    "from sklearn.metrics import mean_squared_error\n",
    "\n",
    "\n",
    "X, y = datasets.load_diabetes(return_X_y=True)\n",
    "\n",
    "# poly feature\n",
    "poly = PolynomialFeatures(degree=2)\n",
    "X = poly.fit_transform(X)\n",
    "\n",
    "X_train, X_test, y_train, y_test = train_test_split(X, y, test_size=0.2, random_state=87)\n",
    "\n",
    "# 準備 Lasso 模型\n",
    "regression = linear_model.Lasso(alpha=0.1)\n",
    "\n",
    "regression.fit(X_train, y_train)\n",
    "y_pred = regression.predict(X_test)\n",
    "\n",
    "#print('w 係數：', regression.coef_)\n",
    "print('w_0 截距：', regression.intercept_)\n",
    "print(\"Mean squared error: %.2f\" % mean_squared_error(y_test, y_pred))\n"
   ]
  },
  {
   "cell_type": "code",
   "execution_count": 17,
   "metadata": {},
   "outputs": [],
   "source": [
    "# Elastic-Net Poly Regression"
   ]
  },
  {
   "cell_type": "code",
   "execution_count": 19,
   "metadata": {},
   "outputs": [
    {
     "name": "stdout",
     "output_type": "stream",
     "text": [
      "w_0 截距： 152.5475392993952\n",
      "Mean squared error: 5245.54\n"
     ]
    }
   ],
   "source": [
    "# Elastic-Net Regression\n",
    "import numpy as np\n",
    "from sklearn import datasets\n",
    "from sklearn.model_selection import train_test_split\n",
    "from sklearn import linear_model\n",
    "from sklearn.metrics import mean_squared_error\n",
    "\n",
    "\n",
    "X, y = datasets.load_diabetes(return_X_y=True)\n",
    "\n",
    "# poly feature\n",
    "poly = PolynomialFeatures(degree=2)\n",
    "X = poly.fit_transform(X)\n",
    "\n",
    "X_train, X_test, y_train, y_test = train_test_split(X, y, test_size=0.2, random_state=87)\n",
    "\n",
    "# 準備 Elastic-Net 模型\n",
    "regression = linear_model.ElasticNet(alpha=0.1)\n",
    "\n",
    "regression.fit(X_train, y_train)\n",
    "y_pred = regression.predict(X_test)\n",
    "\n",
    "#print('w 係數：', regression.coef_)\n",
    "print('w_0 截距：', regression.intercept_)\n",
    "print(\"Mean squared error: %.2f\" % mean_squared_error(y_test, y_pred))"
   ]
  },
  {
   "cell_type": "code",
   "execution_count": null,
   "metadata": {},
   "outputs": [],
   "source": []
  },
  {
   "cell_type": "code",
   "execution_count": null,
   "metadata": {},
   "outputs": [],
   "source": []
  }
 ],
 "metadata": {
  "anaconda-cloud": {},
  "colab": {
   "name": "05.06-Linear-Regression.ipynb",
   "provenance": []
  },
  "kernelspec": {
   "display_name": "Python 3.8.8 ('toby')",
   "language": "python",
   "name": "python3"
  },
  "language_info": {
   "codemirror_mode": {
    "name": "ipython",
    "version": 3
   },
   "file_extension": ".py",
   "mimetype": "text/x-python",
   "name": "python",
   "nbconvert_exporter": "python",
   "pygments_lexer": "ipython3",
   "version": "3.8.8"
  },
  "vscode": {
   "interpreter": {
    "hash": "9f507bc0c6a586295e3338d11ec3fe19c4f242dbc5a06bb50ca7be29aa175c9f"
   }
  }
 },
 "nbformat": 4,
 "nbformat_minor": 4
}
