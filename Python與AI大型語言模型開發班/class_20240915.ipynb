{
 "cells": [
  {
   "cell_type": "code",
   "execution_count": 5,
   "metadata": {},
   "outputs": [
    {
     "name": "stdout",
     "output_type": "stream",
     "text": [
      "True\n",
      "True\n",
      "True\n"
     ]
    }
   ],
   "source": [
    "print( \"sparrow\" > \"eagle\" )\n",
    "print( 50 < 50 / 2 + 5 * 3 or 20 - 45 / 5 - 10 >= 1)\n",
    "print( \"dog\" > \"Cat\" and 45 % 3 == 0 ) "
   ]
  },
  {
   "cell_type": "code",
   "execution_count": 7,
   "metadata": {},
   "outputs": [
    {
     "name": "stdout",
     "output_type": "stream",
     "text": [
      "請輸入0~100的值!!\n",
      "Grade C\n"
     ]
    }
   ],
   "source": [
    "# if exercise\n",
    "while True:\n",
    "    try:\n",
    "        grade = float(input(\"請輸入成績:\"))\n",
    "\n",
    "        if grade <= 0 or grade > 100:\n",
    "            print(\"請輸入0~100的值!!\")\n",
    "            continue\n",
    "        if grade >= 90:\n",
    "            print(\"Grade A\")\n",
    "        if grade < 90 and grade >= 80:\n",
    "            print(\"Grade B\")\n",
    "        if grade < 80 and grade >= 70:\n",
    "            print(\"Grade C\")\n",
    "        if grade < 70 and grade >= 60:\n",
    "            print(\"Grade D\")\n",
    "        if grade < 60:\n",
    "            print(\"Grade F\")\n",
    "        \n",
    "        break\n",
    "    except ValueError:\n",
    "        print(\"輸入的值不為數值,請重新輸入!!\")"
   ]
  },
  {
   "cell_type": "code",
   "execution_count": 1,
   "metadata": {},
   "outputs": [
    {
     "name": "stdout",
     "output_type": "stream",
     "text": [
      "使用500元鈔票\n"
     ]
    }
   ],
   "source": [
    "# else if exercise\n",
    "while True:\n",
    "    try:\n",
    "        num = int(input(\"請輸入花費金額:\"))\n",
    "\n",
    "        if num <= 0 or num > 1000:\n",
    "            print(\"請輸入0~1000的金額!!\")\n",
    "            continue\n",
    "        # 用反向的方式\n",
    "        # if num == 1:\n",
    "        #     print(\"使用1元硬幣\")\n",
    "        # elif num <= 5:\n",
    "        #     print(\"使用5元硬幣\")..\n",
    "\n",
    "        if num > 500:\n",
    "            print(\"使用1000元鈔票\")\n",
    "        elif num > 100:\n",
    "            print(\"使用500元鈔票\")\n",
    "        elif num > 50:\n",
    "            print(\"使用100元鈔票\")\n",
    "        elif num > 10:\n",
    "            print(\"使用50元硬幣\")\n",
    "        elif num > 5:\n",
    "            print(\"使用10元硬幣\")\n",
    "        elif num > 1:\n",
    "            print(\"使用5元硬幣\")\n",
    "        else:\n",
    "            print(\"使用1元硬幣\")\n",
    "\n",
    "\n",
    "        break\n",
    "    except ValueError:\n",
    "        print(\"輸入的值不為數值,請重新輸入!!\")    "
   ]
  },
  {
   "cell_type": "code",
   "execution_count": 7,
   "metadata": {},
   "outputs": [
    {
     "name": "stdout",
     "output_type": "stream",
     "text": [
      "2\n",
      "4\n",
      "6\n",
      "8\n",
      "10\n",
      "12\n",
      "14\n",
      "16\n",
      "18\n",
      "20\n",
      "22\n",
      "24\n",
      "26\n",
      "28\n",
      "30\n",
      "32\n",
      "34\n",
      "36\n",
      "38\n",
      "40\n",
      "42\n",
      "44\n",
      "46\n",
      "48\n",
      "50\n",
      "Final Number:50\n"
     ]
    }
   ],
   "source": [
    "n = 0\n",
    "while n < 50:\n",
    "    n += 2\n",
    "    print(n)\n",
    "print(f\"Final Number:{str(n)}\")\n",
    "\n",
    "# for i in range(0, 50):\n",
    "#     print(i)\n",
    "\n",
    "# lst = [1, 5, 6, 32, 8, 85, 23, 99]\n",
    "# for l in lst:\n",
    "#     print(l)    "
   ]
  },
  {
   "cell_type": "code",
   "execution_count": 1,
   "metadata": {},
   "outputs": [
    {
     "name": "stdout",
     "output_type": "stream",
     "text": [
      "Incorrect Password(1 Times)\n",
      "Incorrect Password(2 Times)\n",
      "Wrong password 3 Times, Try again Later!\n"
     ]
    }
   ],
   "source": [
    "times = 0\n",
    "max_times = 3\n",
    "\n",
    "while True:\n",
    "    pwd = input(\"Please Enter Password:\")\n",
    "    times += 1\n",
    "\n",
    "    if pwd == \"chris\":\n",
    "        print(\"Success Login!\")\n",
    "        break\n",
    "\n",
    "    if times == max_times:\n",
    "        print(f\"Wrong password {times} Times, Try again Later!\")\n",
    "        break\n",
    "    else:\n",
    "        print(f\"Incorrect Password({times} Times)\")\n",
    "\n"
   ]
  }
 ],
 "metadata": {
  "kernelspec": {
   "display_name": ".venv",
   "language": "python",
   "name": "python3"
  },
  "language_info": {
   "codemirror_mode": {
    "name": "ipython",
    "version": 3
   },
   "file_extension": ".py",
   "mimetype": "text/x-python",
   "name": "python",
   "nbconvert_exporter": "python",
   "pygments_lexer": "ipython3",
   "version": "3.12.6"
  }
 },
 "nbformat": 4,
 "nbformat_minor": 2
}
