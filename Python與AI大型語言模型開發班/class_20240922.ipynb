{
 "cells": [
  {
   "cell_type": "code",
   "execution_count": 5,
   "metadata": {},
   "outputs": [
    {
     "name": "stdout",
     "output_type": "stream",
     "text": [
      "['john', 'eric', 'lynn']\n",
      "6\n",
      "jason\n",
      "<class 'str'>\n",
      "['chris', 'amy', 'eric', 'lynn', 'jane', 'jason', 'jinny']\n",
      "[1, 2, 3, 4, 5, 6, 7, 8, 9, 10, 12, 13, 14, 15]\n"
     ]
    }
   ],
   "source": [
    "lst = [\"chris\", \"john\", \"eric\", \"lynn\", \"jane\", \"jason\"]\n",
    "print(lst[1:4])\n",
    "print(len(lst))\n",
    "print(lst[-1])\n",
    "print(type(lst[1]))\n",
    "lst.append(\"jinny\")\n",
    "lst.insert(1, \"amy\")\n",
    "lst.remove(\"john\")\n",
    "print(lst)\n",
    "\n",
    "# 刪除list中的11\n",
    "num = [1, 2, 3, 4, 5, 6, 7, 8, 9, 10, 11, 12, 13, 14, 15, 11, 11, 11]\n",
    "while 11 in num:\n",
    "    num.remove(11)\n",
    "print(num)\n",
    "\n",
    "\n"
   ]
  },
  {
   "cell_type": "code",
   "execution_count": 12,
   "metadata": {},
   "outputs": [
    {
     "name": "stdout",
     "output_type": "stream",
     "text": [
      "[[1 2 3]\n",
      " [4 5 6]\n",
      " [7 8 9]]\n",
      "[[1, 2, 3], [4, 5, 6], [7, 8, 9]]\n"
     ]
    }
   ],
   "source": [
    "import numpy as np\n",
    "lst = [[1,2,3],[4, 5,6],[7,8,9]]\n",
    "ary = np.array(lst)\n",
    "print(ary)\n",
    "print(lst)\n"
   ]
  },
  {
   "cell_type": "code",
   "execution_count": 8,
   "metadata": {},
   "outputs": [
    {
     "name": "stdout",
     "output_type": "stream",
     "text": [
      "無效的月份\n",
      "12 有 31 天\n",
      "程式結束\n"
     ]
    }
   ],
   "source": [
    "while True:\n",
    "    month = input(\"請輸入月份，或輸入 'exit' 退出: \").strip()\n",
    "\n",
    "    if month.lower() == 'exit':\n",
    "        print(\"程式結束\")\n",
    "        break\n",
    "\n",
    "    if month.lower() == \"february\" or int(month) == 2:\n",
    "        print(f\"{month.capitalize()} 有 28/29 天\")\n",
    "    elif month.lower() in [\"january\", \"march\", \"may\", \"july\", \"august\", \"october\", \"december\"] or int(month) in [1, 3, 5, 7, 8, 10, 12]:\n",
    "        print(f\"{month.capitalize()} 有 31 天\")\n",
    "    elif month.lower() in [\"april\", \"june\", \"september\", \"november\"] or int(month) in [4, 6, 9, 11]:\n",
    "        print(f\"{month.capitalize()} 有 30 天\")\n",
    "    else:\n",
    "        print(\"無效的月份\")\n"
   ]
  },
  {
   "cell_type": "code",
   "execution_count": 28,
   "metadata": {},
   "outputs": [
    {
     "name": "stdout",
     "output_type": "stream",
     "text": [
      "奇數列表: [5, 39, 33, 9, 73, 33, 73, 7]\n",
      "偶數列表: [78, 66]\n",
      "奇數數量: 8\n",
      "偶數數量: 2\n"
     ]
    }
   ],
   "source": [
    "import random\n",
    "\n",
    "# random.seed(9001)\n",
    "# 生成包含100個隨機整數的列表（範圍從1到100）\n",
    "numbers = [random.randint(1, 100) for _ in range(10)]\n",
    "\n",
    "# 初始化結果列表和計數器\n",
    "odd_numbers = []\n",
    "even_numbers = []\n",
    "odd_count = 0\n",
    "even_count = 0\n",
    "\n",
    "# 使用 for-in 循環判斷每個數是奇數還是偶數\n",
    "for num in numbers:\n",
    "    if num % 2 == 0:\n",
    "        even_numbers.append(num)\n",
    "        even_count += 1\n",
    "    else:\n",
    "        odd_numbers.append(num)\n",
    "        odd_count += 1\n",
    "\n",
    "# 打印結果\n",
    "print(f\"奇數列表: {odd_numbers}\")\n",
    "print(f\"偶數列表: {even_numbers}\")\n",
    "print(f\"奇數數量: {odd_count}\")\n",
    "print(f\"偶數數量: {even_count}\")"
   ]
  },
  {
   "cell_type": "code",
   "execution_count": 32,
   "metadata": {},
   "outputs": [
    {
     "name": "stdout",
     "output_type": "stream",
     "text": [
      "98\n",
      "[3, 5, 15]\n",
      "[2, 1, 6]\n"
     ]
    }
   ],
   "source": [
    "import random\n",
    "lst1 = [random.randint(1,30) for i in range(3)]\n",
    "lst2 = [random.randint(1,30) for i in range(3)]\n",
    "lst1 = [3, 5, 15]\n",
    "lst2 = [2, 1, 6]\n",
    "val = 0\n",
    "\n",
    "for idx in range(len(lst1)):\n",
    "    val += ( lst1[idx] - lst2[idx] ) ** 2\n",
    "print(val)\n",
    "print(lst1)\n",
    "print(lst2)"
   ]
  },
  {
   "cell_type": "code",
   "execution_count": 1,
   "metadata": {},
   "outputs": [
    {
     "name": "stdout",
     "output_type": "stream",
     "text": [
      "Total Ship with electronics, Ship Qty are 332 unit, Ship To 台中\n",
      "Total Ship with clothing, Ship Qty are 746 unit, Ship To 新竹\n",
      "Total Ship with household, Ship Qty are 468 unit, Ship To 台北\n",
      "-------------------------------------------------------------\n",
      "**Product:food (Ship To: 台北), \n",
      "each item as list:\n",
      "Item:1, Qty:85\n",
      "Item:2, Qty:46\n",
      "Item:3, Qty:95\n",
      "Item:4, Qty:87\n",
      "Item:5, Qty:23\n",
      "Item:6, Qty:49\n",
      "Item:7, Qty:52\n",
      "Item:8, Qty:63\n",
      "Item:9, Qty:72\n",
      "Item:10, Qty:24\n",
      "Item:11, Qty:2\n",
      "Item:12, Qty:61\n",
      "Item:13, Qty:78\n",
      "**Product:others (Ship To: 高雄), \n",
      "each item as list:\n",
      "Item:1, Qty:20\n",
      "Item:2, Qty:39\n",
      "Item:3, Qty:2\n",
      "Item:4, Qty:88\n",
      "Item:5, Qty:9\n",
      "Item:6, Qty:86\n",
      "Item:7, Qty:57\n",
      "Item:8, Qty:56\n",
      "Item:9, Qty:78\n",
      "Item:10, Qty:63\n",
      "Item:11, Qty:88\n",
      "Item:12, Qty:7\n",
      "Item:13, Qty:99\n",
      "Item:14, Qty:47\n",
      "Item:15, Qty:81\n",
      "Item:16, Qty:73\n",
      "Item:17, Qty:75\n"
     ]
    }
   ],
   "source": [
    "import random\n",
    "# random.seed(2913)\n",
    "shiptos = [\"台北\", \"桃園\", \"新竹\", \"台中\", \"高雄\"]\n",
    "prods = [\"electronics\", \"food\", \"clothing\", \"household\", \"others\"]\n",
    "lis_all = []\n",
    "for prod in prods:\n",
    "    lis_all.append([prod] + [random.randint(1,99) for i in range(random.randint(5,20))] + [random.randint(0,4)])\n",
    "\n",
    "# print(lis_all)\n",
    "# print(len(lis_all))\n",
    "for i in range(len(lis_all)):\n",
    "    if lis_all[i][0] in [\"electronics\", \"clothing\", \"household\" ]:\n",
    "        count = 0\n",
    "        for n in range(1, len(lis_all[i]) - 1):\n",
    "            count += lis_all[i][n]\n",
    "        print(f\"Total Ship with {lis_all[i][0]}, Ship Qty are {count} unit, Ship To {shiptos[lis_all[i][len(lis_all[i]) - 1]]}\")\n",
    "print(\"-------------------------------------------------------------\")\n",
    "for i in range(len(lis_all)):\n",
    "    if lis_all[i][0] in [\"food\", \"others\" ]:\n",
    "        itm = 0\n",
    "        print(f\"**Product:{lis_all[i][0]} (Ship To: {shiptos[lis_all[i][len(lis_all[i]) - 1]]}), \\neach item as list:\")\n",
    "        for n in range(1, len(lis_all[i]) - 1):\n",
    "            itm += 1\n",
    "            print(f\"Item:{itm}, Qty:{lis_all[i][n]}\")\n"
   ]
  },
  {
   "cell_type": "code",
   "execution_count": 6,
   "metadata": {},
   "outputs": [
    {
     "name": "stdout",
     "output_type": "stream",
     "text": [
      "Total Ship with electronics, Ship Qty are 978 unit, Ship To 台中\n",
      "Total Ship with clothing, Ship Qty are 283 unit, Ship To 台北\n",
      "Total Ship with household, Ship Qty are 791 unit, Ship To 台北\n",
      "**Product:others (Ship To: 桃園), \n",
      "each item as list:\n",
      "Item:1, Qty:14\n",
      "Item:2, Qty:26\n",
      "Item:3, Qty:68\n",
      "Item:4, Qty:83\n",
      "Item:5, Qty:7\n",
      "Item:6, Qty:4\n",
      "Item:7, Qty:40\n",
      "Item:8, Qty:99\n",
      "Item:9, Qty:15\n",
      "Item:10, Qty:49\n",
      "Item:11, Qty:86\n",
      "Item:12, Qty:75\n",
      "Item:13, Qty:15\n",
      "**Product:others (Ship To: 桃園), \n",
      "each item as list:\n",
      "Item:1, Qty:14\n",
      "Item:2, Qty:26\n",
      "Item:3, Qty:68\n",
      "Item:4, Qty:83\n",
      "Item:5, Qty:7\n",
      "Item:6, Qty:4\n",
      "Item:7, Qty:40\n",
      "Item:8, Qty:99\n",
      "Item:9, Qty:15\n",
      "Item:10, Qty:49\n",
      "Item:11, Qty:86\n",
      "Item:12, Qty:75\n",
      "Item:13, Qty:15\n",
      "**Product:others (Ship To: 桃園), \n",
      "each item as list:\n",
      "Item:1, Qty:14\n",
      "Item:2, Qty:26\n",
      "Item:3, Qty:68\n",
      "Item:4, Qty:83\n",
      "Item:5, Qty:7\n",
      "Item:6, Qty:4\n",
      "Item:7, Qty:40\n",
      "Item:8, Qty:99\n",
      "Item:9, Qty:15\n",
      "Item:10, Qty:49\n",
      "Item:11, Qty:86\n",
      "Item:12, Qty:75\n",
      "Item:13, Qty:15\n",
      "**Product:others (Ship To: 桃園), \n",
      "each item as list:\n",
      "Item:1, Qty:14\n",
      "Item:2, Qty:26\n",
      "Item:3, Qty:68\n",
      "Item:4, Qty:83\n",
      "Item:5, Qty:7\n",
      "Item:6, Qty:4\n",
      "Item:7, Qty:40\n",
      "Item:8, Qty:99\n",
      "Item:9, Qty:15\n",
      "Item:10, Qty:49\n",
      "Item:11, Qty:86\n",
      "Item:12, Qty:75\n",
      "Item:13, Qty:15\n",
      "**Product:others (Ship To: 桃園), \n",
      "each item as list:\n",
      "Item:1, Qty:14\n",
      "Item:2, Qty:26\n",
      "Item:3, Qty:68\n",
      "Item:4, Qty:83\n",
      "Item:5, Qty:7\n",
      "Item:6, Qty:4\n",
      "Item:7, Qty:40\n",
      "Item:8, Qty:99\n",
      "Item:9, Qty:15\n",
      "Item:10, Qty:49\n",
      "Item:11, Qty:86\n",
      "Item:12, Qty:75\n",
      "Item:13, Qty:15\n"
     ]
    }
   ],
   "source": [
    "import random\n",
    "# random.seed(2913)\n",
    "shiptos = [\"台北\", \"桃園\", \"新竹\", \"台中\", \"高雄\"]\n",
    "prods = [\"electronics\", \"food\", \"clothing\", \"household\", \"others\"]\n",
    "\n",
    "lis_all = [[prod] + [random.randint(1, 100) for _ in range(random.randint(5, 20))] + [random.randint(0, 4)] for prod in prods]\n",
    "# print(lis_all)\n",
    "\n",
    "for item in lis_all:\n",
    "    prod, *quantities, shipto_index = item\n",
    "    shipto = shiptos[shipto_index]\n",
    "    \n",
    "    if prod in [\"electronics\", \"clothing\", \"household\"]:\n",
    "        total_qty = sum(quantities)\n",
    "        print(f\"Total Ship with {prod}, Ship Qty are {total_qty} unit, Ship To {shipto}\")\n",
    "        \n",
    "for item in lis_all:        \n",
    "    if prod in [\"food\", \"others\"]:\n",
    "        print(f\"**Product:{prod} (Ship To: {shipto}), \\neach item as list:\")\n",
    "        for idx, qty in enumerate(quantities, start=1):\n",
    "            print(f\"Item:{idx}, Qty:{qty}\")"
   ]
  },
  {
   "cell_type": "code",
   "execution_count": 18,
   "metadata": {},
   "outputs": [
    {
     "name": "stdout",
     "output_type": "stream",
     "text": [
      "[2, 5, 8, 11, 14, 17, 20, 23, 26, 29]\n"
     ]
    }
   ],
   "source": [
    "list(range(10))\n",
    "a = list(range(2, 30, 3))\n",
    "print(a)"
   ]
  },
  {
   "cell_type": "code",
   "execution_count": 1,
   "metadata": {},
   "outputs": [
    {
     "name": "stdout",
     "output_type": "stream",
     "text": [
      "April 有 30 天\n",
      "程式結束\n"
     ]
    }
   ],
   "source": [
    "def get_days_in_month(month):\n",
    "    days_in_month = {\n",
    "        'january': 31, 'february': 28, 'march': 31, 'april': 30,\n",
    "        'may': 31, 'june': 30, 'july': 31, 'august': 31,\n",
    "        'september': 30, 'october': 31, 'november': 30, 'december': 31\n",
    "    }\n",
    "    \n",
    "    month = month.lower()\n",
    "    if month in days_in_month:\n",
    "        return days_in_month[month]\n",
    "    else:\n",
    "        return \"無效的月份\"\n",
    "\n",
    "# 主程式\n",
    "while True:\n",
    "    month = input(\"請輸入月份（英文全名），或輸入 'exit' 退出: \").strip()\n",
    "    \n",
    "    if month.lower() == 'exit':\n",
    "        print(\"程式結束\")\n",
    "        break\n",
    "    \n",
    "    days = get_days_in_month(month)\n",
    "    if isinstance(days, int):\n",
    "        print(f\"{month.capitalize()} 有 {days} 天\")\n",
    "    else:\n",
    "        print(days)"
   ]
  }
 ],
 "metadata": {
  "kernelspec": {
   "display_name": ".venv",
   "language": "python",
   "name": "python3"
  },
  "language_info": {
   "codemirror_mode": {
    "name": "ipython",
    "version": 3
   },
   "file_extension": ".py",
   "mimetype": "text/x-python",
   "name": "python",
   "nbconvert_exporter": "python",
   "pygments_lexer": "ipython3",
   "version": "3.12.6"
  }
 },
 "nbformat": 4,
 "nbformat_minor": 2
}
