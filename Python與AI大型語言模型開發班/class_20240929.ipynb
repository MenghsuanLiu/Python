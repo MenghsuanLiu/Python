{
 "cells": [
  {
   "cell_type": "code",
   "execution_count": 2,
   "metadata": {},
   "outputs": [
    {
     "name": "stdout",
     "output_type": "stream",
     "text": [
      "61\n"
     ]
    }
   ],
   "source": [
    "def add(first,*argv):\n",
    "    for number in argv:\n",
    "        first += number\n",
    "    return first\n",
    "\n",
    "print(add(1,2,3,4,5,7,4,5,6,7,8,9,0))\n",
    "\n"
   ]
  },
  {
   "cell_type": "code",
   "execution_count": 4,
   "metadata": {},
   "outputs": [
    {
     "name": "stdout",
     "output_type": "stream",
     "text": [
      "歡迎來到猜數字遊戲！請猜一個0到100之間的數字。\n",
      "太高了！請猜低一點。\n",
      "太高了！請猜低一點。\n",
      "太高了！請猜低一點。\n",
      "太高了！請猜低一點。\n",
      "太高了！請猜低一點。\n",
      "恭喜你猜對了！答案就是 5。\n",
      "你總共猜了 6 次。\n",
      "遊戲結束，謝謝參與！\n"
     ]
    }
   ],
   "source": [
    "import random\n",
    "\n",
    "# 生成0到100之間的隨機數字\n",
    "target_number = random.randint(0, 100)\n",
    "guess_count = 0\n",
    "\n",
    "print(\"歡迎來到猜數字遊戲！請猜一個0到100之間的數字。\")\n",
    "\n",
    "while True:\n",
    "    try:\n",
    "        guess = int(input(\"請輸入你的猜測: \"))\n",
    "        guess_count += 1\n",
    "\n",
    "        if guess < target_number:\n",
    "            print(\"太低了！請猜高一點。\")\n",
    "        elif guess > target_number:\n",
    "            print(\"太高了！請猜低一點。\")\n",
    "        else:\n",
    "            print(f\"恭喜你猜對了！答案就是 {target_number}。\")\n",
    "            print(f\"你總共猜了 {guess_count} 次。\")\n",
    "            break\n",
    "    except ValueError:\n",
    "        print(\"請輸入有效的數字！\")\n",
    "\n",
    "print(\"遊戲結束，謝謝參與！\")"
   ]
  },
  {
   "cell_type": "code",
   "execution_count": 6,
   "metadata": {},
   "outputs": [
    {
     "name": "stdout",
     "output_type": "stream",
     "text": [
      "(1, 2, 3, 4, 5, 6, 7, 8, 9, 0, [1, 2, 3, 4, 5, 6, 7, 8, 9, 0, 10])\n"
     ]
    }
   ],
   "source": [
    "x = (1,2,3,4,5,6,7,8,9,0, [1,2,3,4,5,6,7,8,9,0])\n",
    "x[10].append(10)\n",
    "print(x)"
   ]
  },
  {
   "cell_type": "code",
   "execution_count": 7,
   "metadata": {},
   "outputs": [
    {
     "name": "stdout",
     "output_type": "stream",
     "text": [
      "國家電話區號字典:\n",
      "台灣: +886\n",
      "中國: +86\n",
      "美國: +1\n",
      "日本: +81\n",
      "韓國: +82\n",
      "英國: +44\n",
      "法國: +33\n",
      "德國: +49\n",
      "澳大利亞: +61\n",
      "加拿大: +1\n"
     ]
    }
   ],
   "source": [
    "\n",
    "# 創建一個國碼的字典\n",
    "country_codes = {\n",
    "    \"台灣\": \"+886\",\n",
    "    \"中國\": \"+86\",\n",
    "    \"美國\": \"+1\",\n",
    "    \"日本\": \"+81\",\n",
    "    \"韓國\": \"+82\",\n",
    "    \"英國\": \"+44\",\n",
    "    \"法國\": \"+33\",\n",
    "    \"德國\": \"+49\",\n",
    "    \"澳大利亞\": \"+61\",\n",
    "    \"加拿大\": \"+1\"\n",
    "}\n",
    "\n",
    "# 打印字典以確認內容\n",
    "print(\"國家電話區號字典:\")\n",
    "for country, code in country_codes.items():\n",
    "    print(f\"{country}: {code}\")\n"
   ]
  },
  {
   "cell_type": "code",
   "execution_count": 14,
   "metadata": {},
   "outputs": [
    {
     "name": "stdout",
     "output_type": "stream",
     "text": [
      "dict_keys(['台灣', '中國', '美國', '日本', '韓國', '英國', '法國', '德國', '澳大利亞', '加拿大'])\n",
      "dict_values(['+886', '+86', '+1', '+81', '+82', '+44', '+33', '+49', '+61', '+1'])\n",
      "dict_items([('台灣', '+886'), ('中國', '+86'), ('美國', '+1'), ('日本', '+81'), ('韓國', '+82'), ('英國', '+44'), ('法國', '+33'), ('德國', '+49'), ('澳大利亞', '+61'), ('加拿大', '+1')])\n",
      "True\n"
     ]
    }
   ],
   "source": [
    "# country_codes.update({\"台灣\": \"+886\"})\n",
    "print(country_codes.keys())\n",
    "print(country_codes.values())\n",
    "print(country_codes.items())\n",
    "\n",
    "print(country_codes.__contains__(\"台灣\"))\n"
   ]
  },
  {
   "cell_type": "code",
   "execution_count": 18,
   "metadata": {},
   "outputs": [
    {
     "name": "stdout",
     "output_type": "stream",
     "text": [
      "201.06192982974676\n",
      "50.26548245743669\n",
      "452.3893421169302\n",
      "75.39822368615503\n"
     ]
    }
   ],
   "source": [
    "import math\n",
    "class Circle:   \n",
    "    def __init__(self, radius):\n",
    "        self.radius = radius\n",
    "\n",
    "    def area(self):\n",
    "        return math.pi * self.radius ** 2\n",
    "\n",
    "    def perimeter(self):\n",
    "        return 2 * math.pi * self.radius\n",
    "\n",
    "circle1 = Circle(8)\n",
    "print(circle1.area())\n",
    "print(circle1.perimeter())        \n",
    "circle2 = Circle(12)\n",
    "print(circle2.area())\n",
    "print(circle2.perimeter())        "
   ]
  }
 ],
 "metadata": {
  "kernelspec": {
   "display_name": ".venv",
   "language": "python",
   "name": "python3"
  },
  "language_info": {
   "codemirror_mode": {
    "name": "ipython",
    "version": 3
   },
   "file_extension": ".py",
   "mimetype": "text/x-python",
   "name": "python",
   "nbconvert_exporter": "python",
   "pygments_lexer": "ipython3",
   "version": "3.12.6"
  }
 },
 "nbformat": 4,
 "nbformat_minor": 2
}
