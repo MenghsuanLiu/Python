{
  "nbformat": 4,
  "nbformat_minor": 0,
  "metadata": {
    "colab": {
      "name": "範例程式.ipynb",
      "provenance": [],
      "collapsed_sections": []
    },
    "kernelspec": {
      "name": "python3",
      "display_name": "Python 3"
    },
    "language_info": {
      "name": "python"
    }
  },
  "cells": [
    {
      "cell_type": "markdown",
      "source": [
        "## 範例目標\n",
        "\n",
        "範例程式終將以 Python 中的 `re` 套件實作 Regular Expression 進行字串的檢索，我們將會涵蓋本日知識點所提及的內容，包含以下主題：\n",
        "\n",
        "- Literal Match\n",
        "- Character Classes\n",
        "- Alternations\n",
        "- Meta Characters\n",
        "- Quantifiers\n",
        "- Group\n",
        "- Lookarounds\n",
        "- Anchor\n",
        "\n"
      ],
      "metadata": {
        "id": "EzR7NnxGAL6A"
      }
    },
    {
      "cell_type": "code",
      "source": [
        "# 載入套件\n",
        "import re"
      ],
      "metadata": {
        "id": "P9lS5rJrDjxH"
      },
      "execution_count": 1,
      "outputs": []
    },
    {
      "cell_type": "markdown",
      "source": [
        "## Literal Match"
      ],
      "metadata": {
        "id": "0AF8XXX1DfuT"
      }
    },
    {
      "cell_type": "code",
      "source": [
        "text = 'Good Morning, Good Morning'\n",
        "\n",
        "# 從 text中找出 'Good'\n",
        "pattern = r'Good'\n",
        "\n",
        "# 透過 re.findall() 從 text 中將符合 pattern 的 substring 取出\n",
        "re.findall(pattern, text)"
      ],
      "metadata": {
        "colab": {
          "base_uri": "https://localhost:8080/"
        },
        "id": "db4dlWgpDiY2",
        "outputId": "1ff5d10d-ece5-4e7e-c1e6-7f564d5d623d"
      },
      "execution_count": 9,
      "outputs": [
        {
          "output_type": "execute_result",
          "data": {
            "text/plain": [
              "['Good', 'Good']"
            ]
          },
          "metadata": {},
          "execution_count": 9
        }
      ]
    },
    {
      "cell_type": "markdown",
      "source": [
        "補充：\n",
        "\n",
        "*   `r'Good'` 在字串前面加上一個 `r` 表示此字串為 Raw String。例如：`r'\\n'` 是由兩個字元所組成的字串 (Raw String)，而 `'\\n'` 則是一個字元 (換行字元)。\n",
        "\n"
      ],
      "metadata": {
        "id": "oCZgsqdqE-AQ"
      }
    },
    {
      "cell_type": "markdown",
      "source": [
        "## Character Classes"
      ],
      "metadata": {
        "id": "ElYJ0lgAFPnO"
      }
    },
    {
      "cell_type": "code",
      "source": [
        "text = \"'Gray' vs. 'grey': What is the Difference?'\"\n",
        "\n",
        "# 從 text中找出 'Gray' 與 'grey'\n",
        "pattern = r'[Gg]r[ae]y'\n",
        "\n",
        "# 透過 re.findall() 從 text 中將符合 pattern 的 substring 取出\n",
        "re.findall(pattern, text)"
      ],
      "metadata": {
        "colab": {
          "base_uri": "https://localhost:8080/"
        },
        "id": "B7mQIaz3HQm5",
        "outputId": "656dae32-5663-4b06-b676-d1d7609797b5"
      },
      "execution_count": 10,
      "outputs": [
        {
          "output_type": "execute_result",
          "data": {
            "text/plain": [
              "['Gray', 'grey']"
            ]
          },
          "metadata": {},
          "execution_count": 10
        }
      ]
    },
    {
      "cell_type": "markdown",
      "source": [
        "## Alternations"
      ],
      "metadata": {
        "id": "EwrY1udaIN41"
      }
    },
    {
      "cell_type": "code",
      "source": [
        "text = \"Which do you want, apple or orange ?\"\n",
        "\n",
        "# 從 text中找出 'apple' 與 'orange'\n",
        "pattern = r'apple|orange'\n",
        "\n",
        "# 透過 re.findall() 從 text 中將符合 pattern 的 substring 取出\n",
        "re.findall(pattern, text)"
      ],
      "metadata": {
        "colab": {
          "base_uri": "https://localhost:8080/"
        },
        "id": "-w2nqr8jIf5o",
        "outputId": "3e15f828-75bc-4d90-dd2f-d6e44d5eb378"
      },
      "execution_count": 11,
      "outputs": [
        {
          "output_type": "execute_result",
          "data": {
            "text/plain": [
              "['apple', 'orange']"
            ]
          },
          "metadata": {},
          "execution_count": 11
        }
      ]
    },
    {
      "cell_type": "markdown",
      "source": [
        "## Meta Characters"
      ],
      "metadata": {
        "id": "PzCWd4l4Ir-9"
      }
    },
    {
      "cell_type": "code",
      "source": [
        "text1 = \"My phone number is 0800-000-123 and 0800-000-456\"\n",
        "text2 = \"My email is example1@gamil.com and example2@gamil.com\""
      ],
      "metadata": {
        "id": "XFCNkEbiJN6v"
      },
      "execution_count": 18,
      "outputs": []
    },
    {
      "cell_type": "code",
      "source": [
        "# 配對 text1 中的任意字元\n",
        "pattern = r'.'\n",
        "re.findall(pattern, text1)"
      ],
      "metadata": {
        "colab": {
          "base_uri": "https://localhost:8080/"
        },
        "id": "V4QYU7x7IxzB",
        "outputId": "ce89bb49-7989-4cd2-dfa0-32b051e95eab"
      },
      "execution_count": 19,
      "outputs": [
        {
          "output_type": "execute_result",
          "data": {
            "text/plain": [
              "['M',\n",
              " 'y',\n",
              " ' ',\n",
              " 'p',\n",
              " 'h',\n",
              " 'o',\n",
              " 'n',\n",
              " 'e',\n",
              " ' ',\n",
              " 'n',\n",
              " 'u',\n",
              " 'm',\n",
              " 'b',\n",
              " 'e',\n",
              " 'r',\n",
              " ' ',\n",
              " 'i',\n",
              " 's',\n",
              " ' ',\n",
              " '0',\n",
              " '8',\n",
              " '0',\n",
              " '0',\n",
              " '-',\n",
              " '0',\n",
              " '0',\n",
              " '0',\n",
              " '-',\n",
              " '1',\n",
              " '2',\n",
              " '3',\n",
              " ' ',\n",
              " 'a',\n",
              " 'n',\n",
              " 'd',\n",
              " ' ',\n",
              " '0',\n",
              " '8',\n",
              " '0',\n",
              " '0',\n",
              " '-',\n",
              " '0',\n",
              " '0',\n",
              " '0',\n",
              " '-',\n",
              " '4',\n",
              " '5',\n",
              " '6']"
            ]
          },
          "metadata": {},
          "execution_count": 19
        }
      ]
    },
    {
      "cell_type": "code",
      "source": [
        "# 配對 text1 中的電話號碼\n",
        "pattern = r'\\d\\d\\d\\d-\\d\\d\\d-\\d\\d\\d'\n",
        "re.findall(pattern, text1)"
      ],
      "metadata": {
        "colab": {
          "base_uri": "https://localhost:8080/"
        },
        "id": "ubexfi3uJL7c",
        "outputId": "25ef0ec6-bdf9-4820-db05-d0b2ed293d95"
      },
      "execution_count": 20,
      "outputs": [
        {
          "output_type": "execute_result",
          "data": {
            "text/plain": [
              "['0800-000-123', '0800-000-456']"
            ]
          },
          "metadata": {},
          "execution_count": 20
        }
      ]
    },
    {
      "cell_type": "code",
      "source": [
        "# 配對 text2 中的 email\n",
        "pattern = r'\\w\\w\\w\\w\\w\\w\\w\\w@\\w\\w\\w\\w\\w\\.\\w\\w\\w'\n",
        "re.findall(pattern, text2)"
      ],
      "metadata": {
        "colab": {
          "base_uri": "https://localhost:8080/"
        },
        "id": "JlhwLFpOJa2H",
        "outputId": "88427b59-0505-42d2-b423-ca75c662dbc9"
      },
      "execution_count": 23,
      "outputs": [
        {
          "output_type": "execute_result",
          "data": {
            "text/plain": [
              "['example1@gamil.com', 'example2@gamil.com']"
            ]
          },
          "metadata": {},
          "execution_count": 23
        }
      ]
    },
    {
      "cell_type": "markdown",
      "source": [
        "## Quantifiers"
      ],
      "metadata": {
        "id": "JbMvFm3OJzoh"
      }
    },
    {
      "cell_type": "code",
      "source": [
        "text1 = \"My phone number : 0800-000-123 and 0800-000-456\"\n",
        "text2 = \"My email : example1@gamil.com and example2@gamil.com\""
      ],
      "metadata": {
        "id": "xyBKsEi7J-io"
      },
      "execution_count": 24,
      "outputs": []
    },
    {
      "cell_type": "code",
      "source": [
        "# 配對 text1 中的電話號碼\n",
        "pattern = r'\\d{4}-\\d{3}-\\d{3}'\n",
        "re.findall(pattern, text1)"
      ],
      "metadata": {
        "colab": {
          "base_uri": "https://localhost:8080/"
        },
        "id": "cEdi1Xf8J_xw",
        "outputId": "734da77b-dc1e-4450-ef12-259788768f17"
      },
      "execution_count": 25,
      "outputs": [
        {
          "output_type": "execute_result",
          "data": {
            "text/plain": [
              "['0800-000-123', '0800-000-456']"
            ]
          },
          "metadata": {},
          "execution_count": 25
        }
      ]
    },
    {
      "cell_type": "code",
      "source": [
        "# 配對 text2 中的 email\n",
        "pattern = r'\\w+@[a-z.]+'\n",
        "re.findall(pattern, text2)"
      ],
      "metadata": {
        "colab": {
          "base_uri": "https://localhost:8080/"
        },
        "id": "8Gs0XeqUKHFp",
        "outputId": "2b79fd91-1595-4ea2-ba9d-abe5c609a618"
      },
      "execution_count": 28,
      "outputs": [
        {
          "output_type": "execute_result",
          "data": {
            "text/plain": [
              "['example1@gamil.com', 'example2@gamil.com']"
            ]
          },
          "metadata": {},
          "execution_count": 28
        }
      ]
    },
    {
      "cell_type": "markdown",
      "source": [
        "## Group"
      ],
      "metadata": {
        "id": "_Q7FTOtQKi-3"
      }
    },
    {
      "cell_type": "code",
      "source": [
        "text1 = \"My phone number : 0800-000-123 and 0800-000-456 and 0800-000-789 and 0800-000-999\""
      ],
      "metadata": {
        "id": "kT8IzWkDKwAG"
      },
      "execution_count": 29,
      "outputs": []
    },
    {
      "cell_type": "code",
      "source": [
        "# 配對 text1 中電話號碼的末三碼為 123 與 456\n",
        "pattern = r'(\\d{4}-\\d{3}-(123|456))'\n",
        "re.findall(pattern, text1)"
      ],
      "metadata": {
        "colab": {
          "base_uri": "https://localhost:8080/"
        },
        "id": "ksAFN6LEK59c",
        "outputId": "0b16a012-8947-4174-ee5b-939610fb9896"
      },
      "execution_count": 33,
      "outputs": [
        {
          "output_type": "execute_result",
          "data": {
            "text/plain": [
              "[('0800-000-123', '123'), ('0800-000-456', '456')]"
            ]
          },
          "metadata": {},
          "execution_count": 33
        }
      ]
    },
    {
      "cell_type": "markdown",
      "source": [
        "## Lookarounds"
      ],
      "metadata": {
        "id": "ZDOX_-SMK_ry"
      }
    },
    {
      "cell_type": "code",
      "source": [
        "text1 = \"My phone number : 0937-000-123 and 0800-000-456 and 0965-000-789 and 0832-000-999 and 0800-001-123 and 0800-005-123 and 0895-005-123\""
      ],
      "metadata": {
        "id": "hpwxQuCiL3Mf"
      },
      "execution_count": 36,
      "outputs": []
    },
    {
      "cell_type": "code",
      "source": [
        "# 配對 text1 中電話號碼的末三碼為 123 (lookahead)\n",
        "pattern = r'\\d{4}-\\d{3}-(?=123)'\n",
        "re.findall(pattern, text1)"
      ],
      "metadata": {
        "colab": {
          "base_uri": "https://localhost:8080/"
        },
        "id": "DhoR7BHxMB2R",
        "outputId": "c65f81e5-f52f-4a66-9f05-9c50a6b1373b"
      },
      "execution_count": 37,
      "outputs": [
        {
          "output_type": "execute_result",
          "data": {
            "text/plain": [
              "['0937-000-', '0800-001-', '0800-005-', '0895-005-']"
            ]
          },
          "metadata": {},
          "execution_count": 37
        }
      ]
    },
    {
      "cell_type": "code",
      "source": [
        "# 配對 text1 中電話號碼的開頭為 0800 (lookbehind)\n",
        "pattern = r'(?<=0800)-\\d{3}-\\d{3}'\n",
        "re.findall(pattern, text1)"
      ],
      "metadata": {
        "colab": {
          "base_uri": "https://localhost:8080/"
        },
        "id": "fyAxCMfZMI-8",
        "outputId": "9f6e97bd-01ca-45b6-f81b-f7bc8deacf55"
      },
      "execution_count": 40,
      "outputs": [
        {
          "output_type": "execute_result",
          "data": {
            "text/plain": [
              "['-000-456', '-001-123', '-005-123']"
            ]
          },
          "metadata": {},
          "execution_count": 40
        }
      ]
    },
    {
      "cell_type": "markdown",
      "source": [
        "## Anchor"
      ],
      "metadata": {
        "id": "BJyQZbD3Mm19"
      }
    },
    {
      "cell_type": "code",
      "source": [
        "text = 'apple orange watermelon Apricots Banana Blackberries Cantaloupe'"
      ],
      "metadata": {
        "id": "eAMYgq53M4L5"
      },
      "execution_count": 52,
      "outputs": []
    },
    {
      "cell_type": "code",
      "source": [
        "# 配對出現在「行首」的水果\n",
        "pattern = r'^\\w+'\n",
        "re.findall(pattern, text)"
      ],
      "metadata": {
        "colab": {
          "base_uri": "https://localhost:8080/"
        },
        "id": "sc5BorSyNybg",
        "outputId": "78f5b5b1-1f5b-4588-defc-8788a583e6f6"
      },
      "execution_count": 53,
      "outputs": [
        {
          "output_type": "execute_result",
          "data": {
            "text/plain": [
              "['apple']"
            ]
          },
          "metadata": {},
          "execution_count": 53
        }
      ]
    },
    {
      "cell_type": "code",
      "source": [
        "# 配對出現在「行尾」的水果\n",
        "pattern = r'\\w+$'\n",
        "re.findall(pattern, text)"
      ],
      "metadata": {
        "colab": {
          "base_uri": "https://localhost:8080/"
        },
        "id": "--Ga9uF-N8Zr",
        "outputId": "023c1b40-7e22-4415-9a42-6eafac8b69d4"
      },
      "execution_count": 54,
      "outputs": [
        {
          "output_type": "execute_result",
          "data": {
            "text/plain": [
              "['Cantaloupe']"
            ]
          },
          "metadata": {},
          "execution_count": 54
        }
      ]
    }
  ]
}