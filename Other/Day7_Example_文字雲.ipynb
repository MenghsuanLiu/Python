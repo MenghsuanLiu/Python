{
 "cells": [
  {
   "cell_type": "markdown",
   "metadata": {},
   "source": [
    "# 範例程式碼"
   ]
  },
  {
   "cell_type": "markdown",
   "metadata": {},
   "source": [
    "## "
   ]
  },
  {
   "cell_type": "markdown",
   "metadata": {},
   "source": [
    "## 學習目標：\n",
    "* 學會使用 wordcloud 套件建立中文與英文文字雲"
   ]
  },
  {
   "cell_type": "code",
   "execution_count": 1,
   "metadata": {},
   "outputs": [],
   "source": [
    "import os\n",
    "import numpy as np\n",
    "import pandas as pd\n",
    "import jieba\n",
    "from wordcloud import WordCloud\n",
    "\n",
    "import matplotlib.pyplot as plt\n",
    "%matplotlib inline"
   ]
  },
  {
   "cell_type": "markdown",
   "metadata": {},
   "source": [
    "### 英文資料"
   ]
  },
  {
   "cell_type": "code",
   "execution_count": 46,
   "metadata": {},
   "outputs": [],
   "source": [
    "# 輸入資料\n",
    "english_data = pd.read_excel(\"english_data.xlsx\")\n",
    "\n",
    "# 為方便做資料前處理，把資料變成 list 結構\n",
    "english_data_list = english_data.values.flatten().tolist()"
   ]
  },
  {
   "cell_type": "code",
   "execution_count": 47,
   "metadata": {},
   "outputs": [],
   "source": [
    "# 斷詞\n",
    "tokenize_english_data_list = [i.split(\" \") for i in english_data_list]"
   ]
  },
  {
   "cell_type": "code",
   "execution_count": 48,
   "metadata": {},
   "outputs": [],
   "source": [
    "# 將斷詞結果以「空格」為分界合併\n",
    "join_tokenize_english_data_list = [\" \".join(i) for i in tokenize_english_data_list]\n",
    "\n",
    "# 將每個段落以「空格」為分界合併\n",
    "join_join_tokenize_english_data_list = \" \".join(join_tokenize_english_data_list)"
   ]
  },
  {
   "cell_type": "code",
   "execution_count": 53,
   "metadata": {},
   "outputs": [
    {
     "data": {
      "text/plain": [
       "<wordcloud.wordcloud.WordCloud at 0x276720abaf0>"
      ]
     },
     "execution_count": 53,
     "metadata": {},
     "output_type": "execute_result"
    }
   ],
   "source": [
    "# 繪製文字雲\n",
    "cloud = WordCloud().generate(join_join_tokenize_english_data_list)\n",
    "cloud.to_file(\"english_word_cloud.png\")"
   ]
  },
  {
   "cell_type": "code",
   "execution_count": null,
   "metadata": {},
   "outputs": [],
   "source": []
  },
  {
   "cell_type": "markdown",
   "metadata": {},
   "source": [
    "### 中文資料"
   ]
  },
  {
   "cell_type": "code",
   "execution_count": 2,
   "metadata": {},
   "outputs": [],
   "source": [
    "# 輸入資料\n",
    "chinese_data = pd.read_excel(\"chinese_data.xlsx\")\n",
    "\n",
    "# 為方便做資料前處理，把資料變成 list 結構\n",
    "chinese_data_list = chinese_data.values.flatten().tolist()"
   ]
  },
  {
   "cell_type": "code",
   "execution_count": 3,
   "metadata": {},
   "outputs": [],
   "source": [
    "# 斷詞\n",
    "tokenize_chinese_data_list = [i.split(\" \") for i in chinese_data_list]"
   ]
  },
  {
   "cell_type": "code",
   "execution_count": 4,
   "metadata": {},
   "outputs": [],
   "source": [
    "# 將斷詞結果以「空格」為分界合併\n",
    "join_tokenize_chinese_data_list = [\" \".join(i) for i in tokenize_chinese_data_list]\n",
    "\n",
    "# 將每個段落以「空格」為分界合併\n",
    "join_join_tokenize_chinese_data_list = \" \".join(join_tokenize_chinese_data_list)"
   ]
  },
  {
   "cell_type": "code",
   "execution_count": 5,
   "metadata": {},
   "outputs": [
    {
     "data": {
      "text/plain": [
       "<wordcloud.wordcloud.WordCloud at 0x1ec6590a430>"
      ]
     },
     "execution_count": 5,
     "metadata": {},
     "output_type": "execute_result"
    }
   ],
   "source": [
    "# 繪製文字雲\n",
    "# 由於 WordCloud 預設沒有支援中文輸出，因此需要給予字體檔案\n",
    "cloud = WordCloud(font_path = \"TaipeiSansTCBeta-Regular.ttf\").generate(join_join_tokenize_chinese_data_list)\n",
    "cloud.to_file(\"chinese_word_cloud.png\")"
   ]
  },
  {
   "cell_type": "code",
   "execution_count": null,
   "metadata": {},
   "outputs": [],
   "source": []
  }
 ],
 "metadata": {
  "interpreter": {
   "hash": "d438a7f87f788d4ff7cc887aa4c0776ede74546f58931320a326d02058f89536"
  },
  "kernelspec": {
   "display_name": "Python 3.8.10 64-bit",
   "language": "python",
   "name": "python3"
  },
  "language_info": {
   "codemirror_mode": {
    "name": "ipython",
    "version": 3
   },
   "file_extension": ".py",
   "mimetype": "text/x-python",
   "name": "python",
   "nbconvert_exporter": "python",
   "pygments_lexer": "ipython3",
   "version": "3.8.10"
  },
  "orig_nbformat": 4
 },
 "nbformat": 4,
 "nbformat_minor": 2
}
