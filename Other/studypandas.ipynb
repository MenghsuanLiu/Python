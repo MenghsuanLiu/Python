{
 "metadata": {
  "language_info": {
   "codemirror_mode": {
    "name": "ipython",
    "version": 3
   },
   "file_extension": ".py",
   "mimetype": "text/x-python",
   "name": "python",
   "nbconvert_exporter": "python",
   "pygments_lexer": "ipython3",
   "version": "3.8.8-final"
  },
  "orig_nbformat": 2,
  "kernelspec": {
   "name": "python3",
   "display_name": "Python 3.8.8 64-bit ('chris_38': venv)",
   "metadata": {
    "interpreter": {
     "hash": "fb7f3dbc2d36926897bfb4c70e3a16ba2b74342c78952d3631d5b02de384b716"
    }
   }
  }
 },
 "nbformat": 4,
 "nbformat_minor": 2,
 "cells": [
  {
   "source": [
    "import pandas as pd"
   ],
   "cell_type": "code",
   "metadata": {},
   "execution_count": 1,
   "outputs": []
  },
  {
   "source": [
    "I.Series 單維度的資料"
   ],
   "cell_type": "markdown",
   "metadata": {}
  },
  {
   "cell_type": "code",
   "execution_count": 3,
   "metadata": {},
   "outputs": [
    {
     "output_type": "stream",
     "name": "stdout",
     "text": [
      "0     5\n1    12\n2    17\n3    99\n4    22\n5    33\ndtype: int64\n---------------\nMax: 99\nMedian: 19.5\n---------------\n0     10\n1     24\n2     34\n3    198\n4     44\n5     66\ndtype: int64\n---------------\n0    False\n1    False\n2     True\n3    False\n4    False\n5    False\ndtype: bool\n"
     ]
    }
   ],
   "source": [
    "series_data =  pd.Series([5, 12, 17, 99, 22, 33])\n",
    "print(series_data)\n",
    "print(\"---------------\")\n",
    "print(\"Max:\", series_data.max())\n",
    "print(\"Median:\", series_data.median()) #中位數\n",
    "print(\"---------------\")\n",
    "series_data = series_data * 2\n",
    "print(series_data)\n",
    "print(\"---------------\")\n",
    "series_data = series_data == 34\n",
    "print(series_data)"
   ]
  },
  {
   "source": [
    "  a.資料索引"
   ],
   "cell_type": "markdown",
   "metadata": {}
  },
  {
   "cell_type": "code",
   "execution_count": 4,
   "metadata": {},
   "outputs": [
    {
     "output_type": "stream",
     "name": "stdout",
     "text": [
      "a    5\nb    4\nc   -2\nd    3\ne    7\ndtype: int64\n"
     ]
    }
   ],
   "source": [
    "series_data2 = pd.Series([5, 4, -2, 3, 7], index = [\"a\", \"b\", \"c\", \"d\", \"e\"])\n",
    "print(series_data2)"
   ]
  },
  {
   "source": [
    "  b.觀察資料"
   ],
   "cell_type": "markdown",
   "metadata": {}
  },
  {
   "cell_type": "code",
   "execution_count": 5,
   "metadata": {},
   "outputs": [
    {
     "output_type": "stream",
     "name": "stdout",
     "text": [
      "Data Type: int64\nData Size: 5\nData Index: Index(['a', 'b', 'c', 'd', 'e'], dtype='object')\n"
     ]
    }
   ],
   "source": [
    "print(\"Data Type:\", series_data2.dtype)\n",
    "print(\"Data Size:\", series_data2.size)\n",
    "print(\"Data Index:\", series_data2.index)"
   ]
  },
  {
   "source": [
    "c.取得資料"
   ],
   "cell_type": "markdown",
   "metadata": {}
  },
  {
   "cell_type": "code",
   "execution_count": 6,
   "metadata": {},
   "outputs": [
    {
     "output_type": "stream",
     "name": "stdout",
     "text": [
      "5 3\n-2\n"
     ]
    }
   ],
   "source": [
    "print(series_data2[0], series_data2[3])\n",
    "print(series_data2[\"c\"])"
   ]
  },
  {
   "source": [
    "d.數字運算"
   ],
   "cell_type": "markdown",
   "metadata": {}
  },
  {
   "cell_type": "code",
   "execution_count": 7,
   "metadata": {},
   "outputs": [
    {
     "output_type": "stream",
     "name": "stdout",
     "text": [
      "最小值: -2\n總合: 17\n標準差: 3.361547262794322\n最大2個數: e    7\na    5\ndtype: int64\n"
     ]
    }
   ],
   "source": [
    "print(\"最小值:\", series_data2.min())\n",
    "print(\"總合:\", series_data2.sum())\n",
    "print(\"標準差:\", series_data2.std())\n",
    "print(\"最大2個數:\", series_data2.nlargest(2))"
   ]
  },
  {
   "source": [
    "e.字串運算"
   ],
   "cell_type": "markdown",
   "metadata": {}
  },
  {
   "cell_type": "code",
   "execution_count": 8,
   "metadata": {},
   "outputs": [
    {
     "output_type": "stream",
     "name": "stdout",
     "text": [
      "0              早安\n",
      "1              晚安\n",
      "2    good morning\n",
      "3      good night\n",
      "dtype: object\n",
      "---------------\n",
      "0     2\n",
      "1     2\n",
      "2    12\n",
      "3    10\n",
      "dtype: int64\n",
      "---------------\n",
      "早安,晚安,Good Morning,Good Night\n",
      "---------------\n",
      "0    False\n",
      "1    False\n",
      "2     True\n",
      "3     True\n",
      "dtype: bool\n",
      "---------------\n",
      "0              早安\n",
      "1              晚安\n",
      "2    Zood Morning\n",
      "3      Zood Night\n",
      "dtype: object\n"
     ]
    }
   ],
   "source": [
    "series_data3 = pd.Series([\"早安\", \"晚安\", \"Good Morning\", \"Good Night\"])\n",
    "print(series_data3.str.lower()) #轉小寫\n",
    "print(\"---------------\")\n",
    "print(series_data3.str.len())   #算每個字串長度\n",
    "print(\"---------------\")\n",
    "print(series_data3.str.cat(sep = \",\"))\n",
    "print(\"---------------\")\n",
    "print(series_data3.str.contains(\"G\"))   #判斷每個字串是否含特定字元\n",
    "print(\"---------------\")\n",
    "print(series_data3.str.replace(\"G\", \"Z\"))   #取代"
   ]
  },
  {
   "source": [
    "II.DataFrame 雙維度試算表的資料"
   ],
   "cell_type": "markdown",
   "metadata": {}
  },
  {
   "cell_type": "code",
   "execution_count": 9,
   "metadata": {},
   "outputs": [
    {
     "output_type": "stream",
     "name": "stdout",
     "text": [
      "   Name  Age\n0   Tom   15\n1  Sara   18\n2  John   17\n3   Amy   19\n---------------\n"
     ]
    }
   ],
   "source": [
    "df_data =  pd.DataFrame({\n",
    "    \"Name\": [\"Tom\", \"Sara\", \"John\", \"Amy\"],\n",
    "    \"Age\":[15, 18, 17, 19]\n",
    "})\n",
    "print(df_data)\n",
    "print(\"---------------\")"
   ]
  },
  {
   "source": [
    "a.觀察資料"
   ],
   "cell_type": "markdown",
   "metadata": {}
  },
  {
   "cell_type": "code",
   "execution_count": 10,
   "metadata": {},
   "outputs": [
    {
     "output_type": "stream",
     "name": "stdout",
     "text": [
      "Data Size: 8\nData Shape(Row, Col): (4, 2)\nData Index: Index(['a', 'b', 'c', 'd'], dtype='object')\n"
     ]
    }
   ],
   "source": [
    "df_data =  pd.DataFrame({\n",
    "    \"Name\": [\"Tom\", \"Sara\", \"John\", \"Amy\"],\n",
    "    \"Age\":[15, 18, 17, 19]\n",
    "}, index = [\"a\", \"b\", \"c\", \"d\"])\n",
    "print(\"Data Size:\", df_data.size)\n",
    "print(\"Data Shape(Row, Col):\", df_data.shape)\n",
    "print(\"Data Index:\", df_data.index)"
   ]
  },
  {
   "source": [
    "b.取得Row Data"
   ],
   "cell_type": "markdown",
   "metadata": {}
  },
  {
   "cell_type": "code",
   "execution_count": 11,
   "metadata": {},
   "outputs": [
    {
     "output_type": "stream",
     "name": "stdout",
     "text": [
      "Name    Tom\nAge      15\nName: a, dtype: object\nName    Sara\nAge       18\nName: b, dtype: object\n"
     ]
    }
   ],
   "source": [
    "print(df_data.iloc[0])  #第一列\n",
    "print(df_data.loc[\"b\"])"
   ]
  },
  {
   "source": [
    "c.取得Column Data"
   ],
   "cell_type": "markdown",
   "metadata": {}
  },
  {
   "cell_type": "code",
   "execution_count": 12,
   "metadata": {},
   "outputs": [
    {
     "output_type": "stream",
     "name": "stdout",
     "text": [
      "a     Tom\nb    Sara\nc    John\nd     Amy\nName: Name, dtype: object\n---------------\na     TOM\nb    SARA\nc    JOHN\nd     AMY\nName: Name, dtype: object\n---------------\n17.25\n"
     ]
    }
   ],
   "source": [
    "print(df_data[\"Name\"])\n",
    "print(\"---------------\")\n",
    "names = df_data[\"Name\"] #把name資料存成Series\n",
    "print(names.str.upper())\n",
    "print(\"---------------\")\n",
    "age = df_data[\"Age\"]\n",
    "print(age.mean()) #平均值"
   ]
  },
  {
   "source": [
    "d.新增新欄位"
   ],
   "cell_type": "markdown",
   "metadata": {}
  },
  {
   "cell_type": "code",
   "execution_count": 13,
   "metadata": {},
   "outputs": [
    {
     "output_type": "stream",
     "name": "stdout",
     "text": [
      "   Name  Age Sex\na   Tom   15   M\nb  Sara   18   F\nc  John   17   M\nd   Amy   19   F\n---------------\n   Name  Age Sex  Score\na   Tom   15   M     86\nb  Sara   18   F     95\nc  John   17   M     87\nd   Amy   19   F     99\n---------------\n   Name  Age Sex  Score          %\na   Tom   15   M     86  23.433243\nb  Sara   18   F     95  25.885559\nc  John   17   M     87  23.705722\nd   Amy   19   F     99  26.975477\n"
     ]
    }
   ],
   "source": [
    "df_data[\"Sex\"] = [\"M\", \"F\", \"M\", \"F\"]\n",
    "print(df_data) \n",
    "print(\"---------------\")\n",
    "df_data[\"Score\"] = pd.Series([86, 95, 87, 99], index = [\"a\", \"b\", \"c\", \"d\"])\n",
    "print(df_data) \n",
    "print(\"---------------\")\n",
    "df_data[\"%\"] = df_data[\"Score\"] / df_data[\"Score\"].sum() * 100\n",
    "print(df_data) "
   ]
  },
  {
   "source": [
    "III.資料篩選"
   ],
   "cell_type": "markdown",
   "metadata": {}
  },
  {
   "cell_type": "code",
   "execution_count": 15,
   "metadata": {},
   "outputs": [
    {
     "output_type": "stream",
     "name": "stdout",
     "text": [
      "[True, False, True]\n[30, 20]\n['Good Afternoon', 'Good Night']\n"
     ]
    }
   ],
   "source": [
    "data = pd.Series([30, 15, 20])\n",
    "condition = data > 18\n",
    "print(condition.tolist())\n",
    "filteredData = data[condition]\n",
    "print(filteredData.tolist())\n",
    "\n",
    "data = pd.Series([\"早安\", \"Good Afternoon\", \"Good Night\"])\n",
    "condition = data.str.contains(\"G\")\n",
    "filteredData = data[condition]\n",
    "print(filteredData.tolist())"
   ]
  },
  {
   "cell_type": "code",
   "execution_count": 20,
   "metadata": {},
   "outputs": [
    {
     "output_type": "stream",
     "name": "stdout",
     "text": [
      "   Name  Age\n0   Tom   15\n1  Sara   18\n2  John   17\n3   Amy   19\n---------------\n   Name  Age\n1  Sara   18\n3   Amy   19\n---------------\n   Name  Age\n1  Sara   18\n"
     ]
    }
   ],
   "source": [
    "df_data =  pd.DataFrame({\n",
    "    \"Name\": [\"Tom\", \"Sara\", \"John\", \"Amy\"],\n",
    "    \"Age\":[15, 18, 17, 19]\n",
    "})\n",
    "print(df_data)\n",
    "print(\"---------------\")\n",
    "condition = df_data[\"Age\"] > 17\n",
    "print(df_data[condition])\n",
    "print(\"---------------\")\n",
    "condition = df_data[\"Name\"] == \"Sara\"\n",
    "print(df_data[condition])"
   ]
  },
  {
   "cell_type": "code",
   "execution_count": null,
   "metadata": {},
   "outputs": [],
   "source": []
  }
 ]
}