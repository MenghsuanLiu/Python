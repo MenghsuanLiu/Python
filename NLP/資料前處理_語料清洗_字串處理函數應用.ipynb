{
  "nbformat": 4,
  "nbformat_minor": 0,
  "metadata": {
    "colab": {
      "name": "範例程式.ipynb",
      "provenance": []
    },
    "kernelspec": {
      "name": "python3",
      "display_name": "Python 3"
    },
    "language_info": {
      "name": "python"
    }
  },
  "cells": [
    {
      "cell_type": "markdown",
      "source": [
        "## 範例目標"
      ],
      "metadata": {
        "id": "xLfO5TgHLKwk"
      }
    },
    {
      "cell_type": "markdown",
      "source": [
        "本次範例的目標為熟練基本的字串處理技巧，學習更多字串處理的延伸概念，並釐清許多初學者經常搞混的觀念。本次範例由以下問題所組成：\n",
        "- 取得字串由多少字元所組成\n",
        "- 計算特定字元出現的次數\n",
        "- 判斷一個字串中的每一個詞 (word) 是不是都是大寫開始\n",
        "- 判斷兩個字串是否有相同的「身份」\n",
        "- f-string 的使用\n",
        "- 判斷字串是否只由數字組成\n",
        "- 將 List of String 變成一個 String\n",
        "- 將字串變成大/小寫"
      ],
      "metadata": {
        "id": "uEfyeFfOQvVV"
      }
    },
    {
      "cell_type": "markdown",
      "source": [
        "## 取得字串由多少字元所組成 "
      ],
      "metadata": {
        "id": "UVRf04M6XrME"
      }
    },
    {
      "cell_type": "code",
      "source": [
        "# 透過 len() 計算字串由多少字元組成\n",
        "str1 = 'mushroom'\n",
        "len(str1)"
      ],
      "metadata": {
        "colab": {
          "base_uri": "https://localhost:8080/"
        },
        "id": "npEpDeeBXxw6",
        "outputId": "89fe3ad1-ff8d-4e37-cccb-e0ebb50875e6"
      },
      "execution_count": 19,
      "outputs": [
        {
          "output_type": "execute_result",
          "data": {
            "text/plain": [
              "8"
            ]
          },
          "metadata": {},
          "execution_count": 19
        }
      ]
    },
    {
      "cell_type": "markdown",
      "source": [
        "## 計算特定字元出現的次數"
      ],
      "metadata": {
        "id": "EAeJaZj4YTmg"
      }
    },
    {
      "cell_type": "code",
      "source": [
        "# 透過 count() 計算字元出現次數\n",
        "str1 = 'mushroom'\n",
        "str1.count('o')"
      ],
      "metadata": {
        "colab": {
          "base_uri": "https://localhost:8080/"
        },
        "id": "8O3mYRa4YX04",
        "outputId": "2ff72594-cb4e-4b83-8fa7-afc974d6fa0e"
      },
      "execution_count": 20,
      "outputs": [
        {
          "output_type": "execute_result",
          "data": {
            "text/plain": [
              "2"
            ]
          },
          "metadata": {},
          "execution_count": 20
        }
      ]
    },
    {
      "cell_type": "markdown",
      "source": [
        "## 判斷一個字串中的每一個詞 (word) 是不是都是大寫開始"
      ],
      "metadata": {
        "id": "1W6UTbdeYtPr"
      }
    },
    {
      "cell_type": "code",
      "source": [
        "# 透過 istitle() 判斷一個字串中的每一個詞 (word) 是不是都是大寫開始\n",
        "'Natural Language Processing'.istitle()"
      ],
      "metadata": {
        "colab": {
          "base_uri": "https://localhost:8080/"
        },
        "id": "rkL3C8LFYuME",
        "outputId": "2c433c80-d1ef-4c4a-e35a-71dd46319c94"
      },
      "execution_count": 22,
      "outputs": [
        {
          "output_type": "execute_result",
          "data": {
            "text/plain": [
              "True"
            ]
          },
          "metadata": {},
          "execution_count": 22
        }
      ]
    },
    {
      "cell_type": "code",
      "source": [
        "# 因為 processing 不是大寫開始，因此為 False\n",
        "'Natural Language processing'.istitle()"
      ],
      "metadata": {
        "colab": {
          "base_uri": "https://localhost:8080/"
        },
        "id": "w07RFaYCY-oB",
        "outputId": "d26f79e0-2dbb-4d26-e62e-5b70f2ed05c6"
      },
      "execution_count": 23,
      "outputs": [
        {
          "output_type": "execute_result",
          "data": {
            "text/plain": [
              "False"
            ]
          },
          "metadata": {},
          "execution_count": 23
        }
      ]
    },
    {
      "cell_type": "markdown",
      "source": [
        "## 判斷兩個字串是否有相同的「身份」"
      ],
      "metadata": {
        "id": "1foLyr3DRJkH"
      }
    },
    {
      "cell_type": "markdown",
      "source": [
        "在 Python 中，我們可以透過「==」與「is」來比較兩個字串，但是兩者其實是比較不同的東西。\n",
        "*   「==」：比較兩個字串是否有相同的「值」(value)\n",
        "*   「is」：比較兩個字串是否有相同的「身份」(identity)\n",
        "\n",
        "如果兩個字串有相同的身份，則這兩字串會存在相同的記憶體空間。我們也可以透過 `id()` 取得字串(變數)的記憶體位置。"
      ],
      "metadata": {
        "id": "JgcyVASCR-Hn"
      }
    },
    {
      "cell_type": "code",
      "source": [
        "# 建立三個字串\n",
        "str1 = 'hello!'\n",
        "str2 = str1\n",
        "str3 = 'hello!'\n",
        "\n",
        "# 判斷 str1 與 str2 是否有相同的「身份」\n",
        "print('identity: str1 and str2 => {}'.format(str1 is str2))\n",
        "\n",
        "# 判斷 str1 與 str3 是否有相同的「身份」\n",
        "print('identity: str1 and str3 => {}'.format(str1 is str3))\n",
        "\n",
        "# 判斷 str1 與 str 2 是否有相同的「值」\n",
        "print('value: str1 and str2 => {}'.format(str1 == str2))\n",
        "\n",
        "# 判斷 str1 與 str 3 是否有相同的「值」\n",
        "print('value: str1 and str3 => {}'.format(str1 == str3))"
      ],
      "metadata": {
        "colab": {
          "base_uri": "https://localhost:8080/"
        },
        "id": "paPk7vIDRMeZ",
        "outputId": "2e320632-e0e1-4714-de43-5d24ef7c3925"
      },
      "execution_count": 17,
      "outputs": [
        {
          "output_type": "stream",
          "name": "stdout",
          "text": [
            "identity: str1 and str2 => True\n",
            "identity: str1 and str3 => False\n",
            "value: str1 and str2 => True\n",
            "value: str1 and str3 => True\n"
          ]
        }
      ]
    },
    {
      "cell_type": "markdown",
      "source": [
        "## f-string 的使用"
      ],
      "metadata": {
        "id": "WV3uVtc-V56a"
      }
    },
    {
      "cell_type": "markdown",
      "source": [
        "實際上除了使用 `format()` 將變數與字串結合之外，在 Python 3.6 後，可以透過 f-string 的寫法，將變數置於字串中。\n",
        "\n",
        "f-string 的用法為在原來的字串前方加上 f。"
      ],
      "metadata": {
        "id": "8hcKBcMDZfSu"
      }
    },
    {
      "cell_type": "code",
      "source": [
        "name = 'Johnny'\n",
        "subject = 'NLP'\n",
        "\n",
        "print(f'My name is {name}')\n",
        "print(f'I am learning {subject}.')"
      ],
      "metadata": {
        "colab": {
          "base_uri": "https://localhost:8080/"
        },
        "id": "qM7a9L_kZyQt",
        "outputId": "e036b465-87bc-4cb7-ba8c-93c834f6e696"
      },
      "execution_count": 25,
      "outputs": [
        {
          "output_type": "stream",
          "name": "stdout",
          "text": [
            "My name is Johnny\n",
            "I am learning NLP.\n"
          ]
        }
      ]
    },
    {
      "cell_type": "markdown",
      "source": [
        "## 判斷字串是否只由數字組成"
      ],
      "metadata": {
        "id": "svfrwqC3Z7Sn"
      }
    },
    {
      "cell_type": "code",
      "source": [
        "'15000'.isnumeric()"
      ],
      "metadata": {
        "colab": {
          "base_uri": "https://localhost:8080/"
        },
        "id": "kXiI4rOnaaum",
        "outputId": "bd7f5691-0ce6-4d66-8087-d1210c188f80"
      },
      "execution_count": 26,
      "outputs": [
        {
          "output_type": "execute_result",
          "data": {
            "text/plain": [
              "True"
            ]
          },
          "metadata": {},
          "execution_count": 26
        }
      ]
    },
    {
      "cell_type": "code",
      "source": [
        "# 但是如果有小數點就會回傳 False\n",
        "'15000.0'.isnumeric()"
      ],
      "metadata": {
        "colab": {
          "base_uri": "https://localhost:8080/"
        },
        "id": "WT0Od6iaahO1",
        "outputId": "9fd9e51e-74a2-4573-85bf-8fed1c2a2238"
      },
      "execution_count": 28,
      "outputs": [
        {
          "output_type": "execute_result",
          "data": {
            "text/plain": [
              "False"
            ]
          },
          "metadata": {},
          "execution_count": 28
        }
      ]
    },
    {
      "cell_type": "markdown",
      "source": [
        "## 將 List of String 變成一個 String"
      ],
      "metadata": {
        "id": "Yw7BAXDvak9k"
      }
    },
    {
      "cell_type": "code",
      "source": [
        "lst = ['a', 'b', 'c']\n",
        "''.join(lst)"
      ],
      "metadata": {
        "colab": {
          "base_uri": "https://localhost:8080/",
          "height": 35
        },
        "id": "pHT_4COPbOgs",
        "outputId": "2c507f6c-8c1d-41d7-edd4-7aaa2f994542"
      },
      "execution_count": 29,
      "outputs": [
        {
          "output_type": "execute_result",
          "data": {
            "application/vnd.google.colaboratory.intrinsic+json": {
              "type": "string"
            },
            "text/plain": [
              "'abc'"
            ]
          },
          "metadata": {},
          "execution_count": 29
        }
      ]
    },
    {
      "cell_type": "markdown",
      "source": [
        "## 將字串變成大/小寫"
      ],
      "metadata": {
        "id": "DtH63K0RcYKW"
      }
    },
    {
      "cell_type": "code",
      "source": [
        "str1 = 'hello'"
      ],
      "metadata": {
        "id": "OOfPguHbd5tP"
      },
      "execution_count": 30,
      "outputs": []
    },
    {
      "cell_type": "code",
      "source": [
        "# 變成大寫\n",
        "str1.upper()"
      ],
      "metadata": {
        "colab": {
          "base_uri": "https://localhost:8080/",
          "height": 35
        },
        "id": "xDAhAD2ld78s",
        "outputId": "1daac6f0-2f11-42bb-acb8-ff71e86ad817"
      },
      "execution_count": 31,
      "outputs": [
        {
          "output_type": "execute_result",
          "data": {
            "application/vnd.google.colaboratory.intrinsic+json": {
              "type": "string"
            },
            "text/plain": [
              "'HELLO'"
            ]
          },
          "metadata": {},
          "execution_count": 31
        }
      ]
    },
    {
      "cell_type": "code",
      "source": [
        "# 變成小寫\n",
        "str1.lower()"
      ],
      "metadata": {
        "colab": {
          "base_uri": "https://localhost:8080/",
          "height": 35
        },
        "id": "68b7JWDad83Z",
        "outputId": "93b4ac25-d60e-4ee9-81ad-033975771805"
      },
      "execution_count": 32,
      "outputs": [
        {
          "output_type": "execute_result",
          "data": {
            "application/vnd.google.colaboratory.intrinsic+json": {
              "type": "string"
            },
            "text/plain": [
              "'hello'"
            ]
          },
          "metadata": {},
          "execution_count": 32
        }
      ]
    }
  ]
}